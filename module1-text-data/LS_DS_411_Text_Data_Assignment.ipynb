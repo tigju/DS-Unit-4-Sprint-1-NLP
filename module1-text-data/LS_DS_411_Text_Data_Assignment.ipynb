{
 "cells": [
  {
   "cell_type": "markdown",
   "metadata": {},
   "source": [
    "<img align=\"left\" src=\"https://lever-client-logos.s3.amazonaws.com/864372b1-534c-480e-acd5-9711f850815c-1524247202159.png\" width=200>\n",
    "<br></br>\n",
    "<br></br>\n",
    "\n",
    "# Natural Language Processing (NLP)\n",
    "## *Data Science Unit 4 Sprint 1 Assignment 1*\n",
    "\n",
    "Your goal in this assignment: find the attributes of the best & worst coffee shops in the dataset. The text is fairly raw: dates in the review, extra words in the `star_rating` column, etc. You'll probably want to clean that stuff up for a better analysis. \n",
    "\n",
    "Analyze the corpus of text using text visualizations of token frequency. Try cleaning the data as much as possible. Try the following techniques: \n",
    "- Lemmatization\n",
    "- Custom stopword removal\n",
    "\n",
    "Keep in mind the attributes of good tokens. Once you have a solid baseline, layer in the star rating in your visualization(s). Key part of this assignment - produce a write-up of the attributes of the best and worst coffee shops. Based on your analysis, what makes the best the best and the worst the worst. Use graphs and numbesr from your analysis to support your conclusions. There should be plenty of markdown cells! :coffee:"
   ]
  },
  {
   "cell_type": "code",
   "execution_count": 1,
   "metadata": {},
   "outputs": [
    {
     "data": {
      "image/jpeg": "[encoded data removed]",
      "text/html": [
       "\n",
       "        <iframe\n",
       "            width=\"400\"\n",
       "            height=\"300\"\n",
       "            src=\"https://www.youtube.com/embed/Jml7NVYm8cs\"\n",
       "            frameborder=\"0\"\n",
       "            allowfullscreen\n",
       "        ></iframe>\n",
       "        "
      ],
      "text/plain": [
       "<IPython.lib.display.YouTubeVideo at 0x7f868dd6acd0>"
      ]
     },
     "execution_count": 1,
     "metadata": {},
     "output_type": "execute_result"
    }
   ],
   "source": [
    "from IPython.display import YouTubeVideo\n",
    "\n",
    "YouTubeVideo('Jml7NVYm8cs')"
   ]
  },
  {
   "cell_type": "code",
   "execution_count": 2,
   "metadata": {},
   "outputs": [
    {
     "data": {
      "text/plain": [
       "'/mnt/c/Users/tigju/Documents/Lambda School/DS-Unit-4-Sprint-1-NLP/module1-text-data'"
      ]
     },
     "execution_count": 2,
     "metadata": {},
     "output_type": "execute_result"
    }
   ],
   "source": [
    "%pwd"
   ]
  },
  {
   "cell_type": "code",
   "execution_count": 44,
   "metadata": {},
   "outputs": [
    {
     "data": {
      "text/html": [
       "<div>\n",
       "<style scoped>\n",
       "    .dataframe tbody tr th:only-of-type {\n",
       "        vertical-align: middle;\n",
       "    }\n",
       "\n",
       "    .dataframe tbody tr th {\n",
       "        vertical-align: top;\n",
       "    }\n",
       "\n",
       "    .dataframe thead th {\n",
       "        text-align: right;\n",
       "    }\n",
       "</style>\n",
       "<table border=\"1\" class=\"dataframe\">\n",
       "  <thead>\n",
       "    <tr style=\"text-align: right;\">\n",
       "      <th></th>\n",
       "      <th>coffee_shop_name</th>\n",
       "      <th>full_review_text</th>\n",
       "      <th>star_rating</th>\n",
       "    </tr>\n",
       "  </thead>\n",
       "  <tbody>\n",
       "    <tr>\n",
       "      <th>0</th>\n",
       "      <td>The Factory - Cafe With a Soul</td>\n",
       "      <td>11/25/2016 1 check-in Love love loved the atm...</td>\n",
       "      <td>5.0 star rating</td>\n",
       "    </tr>\n",
       "    <tr>\n",
       "      <th>1</th>\n",
       "      <td>The Factory - Cafe With a Soul</td>\n",
       "      <td>12/2/2016 Listed in Date Night: Austin, Ambia...</td>\n",
       "      <td>4.0 star rating</td>\n",
       "    </tr>\n",
       "    <tr>\n",
       "      <th>2</th>\n",
       "      <td>The Factory - Cafe With a Soul</td>\n",
       "      <td>11/30/2016 1 check-in Listed in Brunch Spots ...</td>\n",
       "      <td>4.0 star rating</td>\n",
       "    </tr>\n",
       "    <tr>\n",
       "      <th>3</th>\n",
       "      <td>The Factory - Cafe With a Soul</td>\n",
       "      <td>11/25/2016 Very cool decor! Good drinks Nice ...</td>\n",
       "      <td>2.0 star rating</td>\n",
       "    </tr>\n",
       "    <tr>\n",
       "      <th>4</th>\n",
       "      <td>The Factory - Cafe With a Soul</td>\n",
       "      <td>12/3/2016 1 check-in They are located within ...</td>\n",
       "      <td>4.0 star rating</td>\n",
       "    </tr>\n",
       "  </tbody>\n",
       "</table>\n",
       "</div>"
      ],
      "text/plain": [
       "                  coffee_shop_name  \\\n",
       "0  The Factory - Cafe With a Soul    \n",
       "1  The Factory - Cafe With a Soul    \n",
       "2  The Factory - Cafe With a Soul    \n",
       "3  The Factory - Cafe With a Soul    \n",
       "4  The Factory - Cafe With a Soul    \n",
       "\n",
       "                                    full_review_text        star_rating  \n",
       "0   11/25/2016 1 check-in Love love loved the atm...   5.0 star rating   \n",
       "1   12/2/2016 Listed in Date Night: Austin, Ambia...   4.0 star rating   \n",
       "2   11/30/2016 1 check-in Listed in Brunch Spots ...   4.0 star rating   \n",
       "3   11/25/2016 Very cool decor! Good drinks Nice ...   2.0 star rating   \n",
       "4   12/3/2016 1 check-in They are located within ...   4.0 star rating   "
      ]
     },
     "execution_count": 44,
     "metadata": {},
     "output_type": "execute_result"
    }
   ],
   "source": [
    "import pandas as pd\n",
    "\n",
    "url = \"https://raw.githubusercontent.com/LambdaSchool/DS-Unit-4-Sprint-1-NLP/main/module1-text-data/data/yelp_coffeeshop_review_data.csv\"\n",
    "\n",
    "shops = pd.read_csv(url)\n",
    "shops.head()"
   ]
  },
  {
   "cell_type": "code",
   "execution_count": 45,
   "metadata": {},
   "outputs": [
    {
     "data": {
      "text/plain": [
       " 5.0 star rating     3780\n",
       " 4.0 star rating     2360\n",
       " 3.0 star rating      738\n",
       " 2.0 star rating      460\n",
       " 1.0 star rating      278\n",
       "Name: star_rating, dtype: int64"
      ]
     },
     "execution_count": 45,
     "metadata": {},
     "output_type": "execute_result"
    }
   ],
   "source": [
    "# Start here \n",
    "shops['star_rating'].value_counts()"
   ]
  },
  {
   "cell_type": "code",
   "execution_count": 46,
   "metadata": {},
   "outputs": [
    {
     "data": {
      "text/plain": [
       " 10/16/2016 Amazing coffee! Waffle banana and nutella is incredible! Beautiful place! The service is great! Everything is just perfect!                                                                                                                                                                                                                                                                                                                                                                                                                                                                                                                                                                                                                                                                                                 0.000525\n",
       " 11/23/2016 1 check-in My best friend and I came to The Factory after seeing it on a couple of best new Austin brunch lists. It's super cute and trendy, to the point where it feels kind of out of place in a strip mall. Although I loved the interior design and general ambiance of the place, I was a little disappointed with the menu. This is more of a coffee shop than a cafe - their food options are pretty limited. My friend ordered the chicken and waffles and I ordered Nutella waffles with strawberries and bananas. For the price I paid, the portions were definitely on the smaller side. I enjoyed my meal still, but it's hard to mess up Nutella and fruit, so I wasn't particularly impressed. I would love to come back to study sometime but since they don't have wifi, I don't think it'll be likely.     0.000525\n",
       " 10/30/2016 1 check-in Super cute place for lounging and chatting up with a friend. The chicken and waffle was delicious. Chicken was cooked to perfection! Super moist chicken with fluffy waffle...more of a snack than a meal, so don't go here expecting to be filled with a meal.                                                                                                                                                                                                                                                                                                                                                                                                                                                                                                                                                  0.000525\n",
       " 10/9/2016 1 check-in I am very impressed with this place. The food portions were so perfect and not mention delicious! The waffle architects (staff) were all so accommodating and nice. We were able to talk to one of the owners for a bit and he was very helpful with his recommendations and accurate. I highly recommend this place. I will definitely be coming back when I am in Austin again. Nutella and Banana waffles. Chicken and Waffles, Olive Oil Pound Cake, and Milk Tea! Yummy.                                                                                                                                                                                                                                                                                                                                     0.000525\n",
       " 10/7/2016 Love the Factory. Good coffee, tasty chicken and waffles and awesome atmosphere. Definitely recommend the Nutella waffle.                                                                                                                                                                                                                                                                                                                                                                                                                                                                                                                                                                                                                                                                                                    0.000525\n",
       " 10/25/2016 Tried this new cafe spot on Burnet with a friend - unassuming storefront, the decor is quaint af and you have to order from iPads at the counter and then choose a place to sit.  Not a brunch spot as we had thought, just a cafe with a couple of food options. The Nutella waffles we got were on point - there's also a chicken option.  The cold brew coffee was fantastic and my friend's milk tea turned out great too.  Good spot for conversations. Only knocking down a star for the limited options. I hope they add more items to the menu! Milk tea - humongous!! Nutella banana waffles Love the illustrations! See all photos from Ramya B. for The Factory - Cafe With a Soul                                                                                                                               0.000525\n",
       " 11/2/2016 Interesting new coffee place with a vibe that blends posh, hipster, and comfy.  Medium roasted beans have a milder, sweeter flavor than your typical Starbucks espresso shot, so be aware that the coffee tastes less bitter but packs more of a caffeine punch!  This place has homemade pop tarts!                                                                                                                                                                                                                                                                                                                                                                                                                                                                                                                         0.000525\n",
       " 10/13/2016 1 check-in I really enjoyed my visit here. I ordered the cortado and chicken waffle. Both were excellent.  The space is very Instagram worthy.  Awesome mural. Staff was very friendly too and I loved the iPad ordering system. Chicken waffle and cortado paired with sparkling water to cleanse the palate                                                                                                                                                                                                                                                                                                                                                                                                                                                                                                               0.000525\n",
       " 11/12/2016 Great coffee, food and atmosphere! Love the set-up. Order on an iPad and they call your name out when your food is ready.                                                                                                                                                                                                                                                                                                                                                                                                                                                                                                                                                                                                                                                                                                   0.000525\n",
       " 10/15/2016 This place is really nice. They have done a great job... It's the type of place that you could spend hours in. They have a small menu right now, but their drinks, waffles, and pastries are really well made. We'll definitely be coming back soon.... like tomorrow. Viva Matcha Latte and Pop-art                                                                                                                                                                                                                                                                                                                                                                                                                                                                                                                        0.000525\n",
       "Name: full_review_text, dtype: float64"
      ]
     },
     "execution_count": 46,
     "metadata": {},
     "output_type": "execute_result"
    }
   ],
   "source": [
    "shops['full_review_text'].value_counts(normalize=True)[:10]"
   ]
  },
  {
   "cell_type": "markdown",
   "metadata": {},
   "source": [
    "## How do we want to analyze these coffee shop tokens? \n",
    "\n",
    "- Overall Word / Token Count\n",
    "- View Counts by Rating \n",
    "- *Hint:* a 'bad' coffee shops has a rating betweeen 1 & 3 based on the distribution of ratings. A 'good' coffee shop is a 4 or 5. "
   ]
  },
  {
   "cell_type": "code",
   "execution_count": 47,
   "metadata": {},
   "outputs": [
    {
     "data": {
      "text/html": [
       "<div>\n",
       "<style scoped>\n",
       "    .dataframe tbody tr th:only-of-type {\n",
       "        vertical-align: middle;\n",
       "    }\n",
       "\n",
       "    .dataframe tbody tr th {\n",
       "        vertical-align: top;\n",
       "    }\n",
       "\n",
       "    .dataframe thead th {\n",
       "        text-align: right;\n",
       "    }\n",
       "</style>\n",
       "<table border=\"1\" class=\"dataframe\">\n",
       "  <thead>\n",
       "    <tr style=\"text-align: right;\">\n",
       "      <th></th>\n",
       "      <th>coffee_shop_name</th>\n",
       "      <th>full_review_text</th>\n",
       "      <th>star_rating</th>\n",
       "      <th>tokens</th>\n",
       "      <th>clean_rating</th>\n",
       "    </tr>\n",
       "  </thead>\n",
       "  <tbody>\n",
       "    <tr>\n",
       "      <th>0</th>\n",
       "      <td>The Factory - Cafe With a Soul</td>\n",
       "      <td>11/25/2016 1 check-in Love love loved the atm...</td>\n",
       "      <td>5.0 star rating</td>\n",
       "      <td>[checkin, love, love, loved, the, atmosphere, ...</td>\n",
       "      <td>5.0</td>\n",
       "    </tr>\n",
       "    <tr>\n",
       "      <th>1</th>\n",
       "      <td>The Factory - Cafe With a Soul</td>\n",
       "      <td>12/2/2016 Listed in Date Night: Austin, Ambia...</td>\n",
       "      <td>4.0 star rating</td>\n",
       "      <td>[listed, in, date, night, austin, ambiance, in...</td>\n",
       "      <td>4.0</td>\n",
       "    </tr>\n",
       "    <tr>\n",
       "      <th>2</th>\n",
       "      <td>The Factory - Cafe With a Soul</td>\n",
       "      <td>11/30/2016 1 check-in Listed in Brunch Spots ...</td>\n",
       "      <td>4.0 star rating</td>\n",
       "      <td>[checkin, listed, in, brunch, spots, i, loved,...</td>\n",
       "      <td>4.0</td>\n",
       "    </tr>\n",
       "  </tbody>\n",
       "</table>\n",
       "</div>"
      ],
      "text/plain": [
       "                  coffee_shop_name  \\\n",
       "0  The Factory - Cafe With a Soul    \n",
       "1  The Factory - Cafe With a Soul    \n",
       "2  The Factory - Cafe With a Soul    \n",
       "\n",
       "                                    full_review_text        star_rating  \\\n",
       "0   11/25/2016 1 check-in Love love loved the atm...   5.0 star rating    \n",
       "1   12/2/2016 Listed in Date Night: Austin, Ambia...   4.0 star rating    \n",
       "2   11/30/2016 1 check-in Listed in Brunch Spots ...   4.0 star rating    \n",
       "\n",
       "                                              tokens clean_rating  \n",
       "0  [checkin, love, love, loved, the, atmosphere, ...          5.0  \n",
       "1  [listed, in, date, night, austin, ambiance, in...          4.0  \n",
       "2  [checkin, listed, in, brunch, spots, i, loved,...          4.0  "
      ]
     },
     "execution_count": 47,
     "metadata": {},
     "output_type": "execute_result"
    }
   ],
   "source": [
    "# add tokens column, convert to lowercase\n",
    "import re\n",
    "\n",
    "shops['tokens'] = shops['full_review_text'].apply(lambda x: re.sub('[^a-zA-Z ]', '', x).lower().split())\n",
    "shops['clean_rating'] = shops['star_rating'].apply(lambda x: re.sub('[^0-5.]', '', x))\n",
    "\n",
    "shops.head(3)"
   ]
  },
  {
   "cell_type": "code",
   "execution_count": 48,
   "metadata": {},
   "outputs": [
    {
     "data": {
      "text/plain": [
       "[('the', 34809),\n",
       " ('and', 26651),\n",
       " ('a', 22756),\n",
       " ('i', 20249),\n",
       " ('to', 17164),\n",
       " ('of', 12600),\n",
       " ('is', 11999),\n",
       " ('coffee', 10354),\n",
       " ('was', 9707),\n",
       " ('in', 9546)]"
      ]
     },
     "execution_count": 48,
     "metadata": {},
     "output_type": "execute_result"
    }
   ],
   "source": [
    "# Object from Base Python\n",
    "from collections import Counter\n",
    "\n",
    "# The object `Counter` takes an iterable, but you can instaniate an empty one and update it. \n",
    "word_counts = Counter()\n",
    "\n",
    "# Update it based on a split of each of our documents\n",
    "shops['tokens'].apply(lambda x: word_counts.update(x))\n",
    "\n",
    "# Print out the 10 most common words\n",
    "word_counts.most_common(10)"
   ]
  },
  {
   "cell_type": "code",
   "execution_count": 49,
   "metadata": {},
   "outputs": [],
   "source": [
    "# fuction which takes a corpus of document and returns and dataframe of word counts for us to analyze.\n",
    "def count(docs):\n",
    "\n",
    "        word_counts = Counter()\n",
    "        appears_in = Counter()\n",
    "        \n",
    "        total_docs = len(docs)\n",
    "\n",
    "        for doc in docs:\n",
    "            word_counts.update(doc)\n",
    "            appears_in.update(set(doc))\n",
    "\n",
    "        temp = zip(word_counts.keys(), word_counts.values())\n",
    "        \n",
    "        wc = pd.DataFrame(temp, columns = ['word', 'count'])\n",
    "\n",
    "        wc['rank'] = wc['count'].rank(method='first', ascending=False)\n",
    "        total = wc['count'].sum()\n",
    "\n",
    "        wc['pct_total'] = wc['count'].apply(lambda x: x / total)\n",
    "        \n",
    "        wc = wc.sort_values(by='rank')\n",
    "        wc['cul_pct_total'] = wc['pct_total'].cumsum()\n",
    "\n",
    "        t2 = zip(appears_in.keys(), appears_in.values())\n",
    "        ac = pd.DataFrame(t2, columns=['word', 'appears_in'])\n",
    "        wc = ac.merge(wc, on='word')\n",
    "\n",
    "        wc['appears_in_pct'] = wc['appears_in'].apply(lambda x: x / total_docs)\n",
    "        \n",
    "        return wc.sort_values(by='rank')"
   ]
  },
  {
   "cell_type": "code",
   "execution_count": 50,
   "metadata": {},
   "outputs": [],
   "source": [
    "# Use the Function\n",
    "wc = count(shops['tokens'])"
   ]
  },
  {
   "cell_type": "code",
   "execution_count": 51,
   "metadata": {},
   "outputs": [
    {
     "data": {
      "text/html": [
       "<div>\n",
       "<style scoped>\n",
       "    .dataframe tbody tr th:only-of-type {\n",
       "        vertical-align: middle;\n",
       "    }\n",
       "\n",
       "    .dataframe tbody tr th {\n",
       "        vertical-align: top;\n",
       "    }\n",
       "\n",
       "    .dataframe thead th {\n",
       "        text-align: right;\n",
       "    }\n",
       "</style>\n",
       "<table border=\"1\" class=\"dataframe\">\n",
       "  <thead>\n",
       "    <tr style=\"text-align: right;\">\n",
       "      <th></th>\n",
       "      <th>word</th>\n",
       "      <th>appears_in</th>\n",
       "      <th>count</th>\n",
       "      <th>rank</th>\n",
       "      <th>pct_total</th>\n",
       "      <th>cul_pct_total</th>\n",
       "      <th>appears_in_pct</th>\n",
       "    </tr>\n",
       "  </thead>\n",
       "  <tbody>\n",
       "    <tr>\n",
       "      <th>4</th>\n",
       "      <td>the</td>\n",
       "      <td>6847</td>\n",
       "      <td>34809</td>\n",
       "      <td>1.0</td>\n",
       "      <td>0.045412</td>\n",
       "      <td>0.045412</td>\n",
       "      <td>0.899028</td>\n",
       "    </tr>\n",
       "    <tr>\n",
       "      <th>43</th>\n",
       "      <td>and</td>\n",
       "      <td>6864</td>\n",
       "      <td>26651</td>\n",
       "      <td>2.0</td>\n",
       "      <td>0.034769</td>\n",
       "      <td>0.080180</td>\n",
       "      <td>0.901261</td>\n",
       "    </tr>\n",
       "    <tr>\n",
       "      <th>38</th>\n",
       "      <td>a</td>\n",
       "      <td>6246</td>\n",
       "      <td>22756</td>\n",
       "      <td>3.0</td>\n",
       "      <td>0.029687</td>\n",
       "      <td>0.109868</td>\n",
       "      <td>0.820116</td>\n",
       "    </tr>\n",
       "    <tr>\n",
       "      <th>46</th>\n",
       "      <td>i</td>\n",
       "      <td>5532</td>\n",
       "      <td>20249</td>\n",
       "      <td>4.0</td>\n",
       "      <td>0.026417</td>\n",
       "      <td>0.136284</td>\n",
       "      <td>0.726366</td>\n",
       "    </tr>\n",
       "    <tr>\n",
       "      <th>19</th>\n",
       "      <td>to</td>\n",
       "      <td>5653</td>\n",
       "      <td>17164</td>\n",
       "      <td>5.0</td>\n",
       "      <td>0.022392</td>\n",
       "      <td>0.158676</td>\n",
       "      <td>0.742253</td>\n",
       "    </tr>\n",
       "  </tbody>\n",
       "</table>\n",
       "</div>"
      ],
      "text/plain": [
       "   word  appears_in  count  rank  pct_total  cul_pct_total  appears_in_pct\n",
       "4   the        6847  34809   1.0   0.045412       0.045412        0.899028\n",
       "43  and        6864  26651   2.0   0.034769       0.080180        0.901261\n",
       "38    a        6246  22756   3.0   0.029687       0.109868        0.820116\n",
       "46    i        5532  20249   4.0   0.026417       0.136284        0.726366\n",
       "19   to        5653  17164   5.0   0.022392       0.158676        0.742253"
      ]
     },
     "execution_count": 51,
     "metadata": {},
     "output_type": "execute_result"
    }
   ],
   "source": [
    "wc.head()"
   ]
  },
  {
   "cell_type": "code",
   "execution_count": 52,
   "metadata": {},
   "outputs": [
    {
     "data": {
      "image/png": "[encoded data removed]",
      "text/plain": [
       "<Figure size 432x288 with 1 Axes>"
      ]
     },
     "metadata": {
      "needs_background": "light"
     },
     "output_type": "display_data"
    }
   ],
   "source": [
    "import seaborn as sns\n",
    "\n",
    "# Cumulative Distribution Plot\n",
    "sns.lineplot(x='rank', y='cul_pct_total', data=wc);"
   ]
  },
  {
   "cell_type": "code",
   "execution_count": 53,
   "metadata": {},
   "outputs": [
    {
     "data": {
      "text/plain": [
       "0.5426164642156858"
      ]
     },
     "execution_count": 53,
     "metadata": {},
     "output_type": "execute_result"
    }
   ],
   "source": [
    "wc[wc['rank'] <= 100]['cul_pct_total'].max()"
   ]
  },
  {
   "cell_type": "code",
   "execution_count": 54,
   "metadata": {},
   "outputs": [
    {
     "data": {
      "image/png": "[encoded data removed]",
      "text/plain": [
       "<Figure size 432x288 with 1 Axes>"
      ]
     },
     "metadata": {
      "needs_background": "light"
     },
     "output_type": "display_data"
    }
   ],
   "source": [
    "import squarify\n",
    "import matplotlib.pyplot as plt\n",
    "\n",
    "wc_top20 = wc[wc['rank'] <= 20]\n",
    "\n",
    "squarify.plot(sizes=wc_top20['pct_total'], label=wc_top20['word'], alpha=.8 )\n",
    "plt.axis('off')\n",
    "plt.show()"
   ]
  },
  {
   "cell_type": "code",
   "execution_count": 55,
   "metadata": {},
   "outputs": [],
   "source": [
    "import spacy\n",
    "from spacy.tokenizer import Tokenizer\n",
    "\n",
    "nlp = spacy.load(\"en_core_web_lg\")\n",
    "\n",
    "# Tokenizer\n",
    "tokenizer = Tokenizer(nlp.vocab)"
   ]
  },
  {
   "cell_type": "code",
   "execution_count": 56,
   "metadata": {},
   "outputs": [],
   "source": [
    "# Tokenizer Pipe\n",
    "\n",
    "tokens = []\n",
    "\n",
    "\"\"\" Make them tokens \"\"\"\n",
    "for doc in tokenizer.pipe(shops['full_review_text'], batch_size=500):\n",
    "    doc_tokens = [token.text for token in doc]\n",
    "    tokens.append(doc_tokens)\n",
    "\n",
    "shops['tokenizer_tokens'] = tokens"
   ]
  },
  {
   "cell_type": "code",
   "execution_count": 57,
   "metadata": {},
   "outputs": [
    {
     "data": {
      "text/plain": [
       "0    [ , 11/25/2016, 1, check-in, Love, love, loved...\n",
       "1    [ , 12/2/2016, Listed, in, Date, Night:, Austi...\n",
       "2    [ , 11/30/2016, 1, check-in, Listed, in, Brunc...\n",
       "3    [ , 11/25/2016, Very, cool, decor!, Good, drin...\n",
       "4    [ , 12/3/2016, 1, check-in, They, are, located...\n",
       "Name: tokenizer_tokens, dtype: object"
      ]
     },
     "execution_count": 57,
     "metadata": {},
     "output_type": "execute_result"
    }
   ],
   "source": [
    "shops['tokenizer_tokens'].head()"
   ]
  },
  {
   "cell_type": "code",
   "execution_count": 58,
   "metadata": {},
   "outputs": [
    {
     "data": {
      "text/html": [
       "<div>\n",
       "<style scoped>\n",
       "    .dataframe tbody tr th:only-of-type {\n",
       "        vertical-align: middle;\n",
       "    }\n",
       "\n",
       "    .dataframe tbody tr th {\n",
       "        vertical-align: top;\n",
       "    }\n",
       "\n",
       "    .dataframe thead th {\n",
       "        text-align: right;\n",
       "    }\n",
       "</style>\n",
       "<table border=\"1\" class=\"dataframe\">\n",
       "  <thead>\n",
       "    <tr style=\"text-align: right;\">\n",
       "      <th></th>\n",
       "      <th>word</th>\n",
       "      <th>appears_in</th>\n",
       "      <th>count</th>\n",
       "      <th>rank</th>\n",
       "      <th>pct_total</th>\n",
       "      <th>cul_pct_total</th>\n",
       "      <th>appears_in_pct</th>\n",
       "    </tr>\n",
       "  </thead>\n",
       "  <tbody>\n",
       "    <tr>\n",
       "      <th>3</th>\n",
       "      <td>the</td>\n",
       "      <td>6520</td>\n",
       "      <td>27779</td>\n",
       "      <td>1.0</td>\n",
       "      <td>0.034334</td>\n",
       "      <td>0.034334</td>\n",
       "      <td>0.856092</td>\n",
       "    </tr>\n",
       "    <tr>\n",
       "      <th>14</th>\n",
       "      <td>and</td>\n",
       "      <td>6804</td>\n",
       "      <td>25748</td>\n",
       "      <td>2.0</td>\n",
       "      <td>0.031824</td>\n",
       "      <td>0.066157</td>\n",
       "      <td>0.893382</td>\n",
       "    </tr>\n",
       "    <tr>\n",
       "      <th>48</th>\n",
       "      <td></td>\n",
       "      <td>7616</td>\n",
       "      <td>22606</td>\n",
       "      <td>3.0</td>\n",
       "      <td>0.027940</td>\n",
       "      <td>0.094097</td>\n",
       "      <td>1.000000</td>\n",
       "    </tr>\n",
       "    <tr>\n",
       "      <th>46</th>\n",
       "      <td>a</td>\n",
       "      <td>6181</td>\n",
       "      <td>22085</td>\n",
       "      <td>4.0</td>\n",
       "      <td>0.027296</td>\n",
       "      <td>0.121394</td>\n",
       "      <td>0.811581</td>\n",
       "    </tr>\n",
       "    <tr>\n",
       "      <th>0</th>\n",
       "      <td>I</td>\n",
       "      <td>5469</td>\n",
       "      <td>19780</td>\n",
       "      <td>5.0</td>\n",
       "      <td>0.024447</td>\n",
       "      <td>0.145841</td>\n",
       "      <td>0.718093</td>\n",
       "    </tr>\n",
       "    <tr>\n",
       "      <th>...</th>\n",
       "      <td>...</td>\n",
       "      <td>...</td>\n",
       "      <td>...</td>\n",
       "      <td>...</td>\n",
       "      <td>...</td>\n",
       "      <td>...</td>\n",
       "      <td>...</td>\n",
       "    </tr>\n",
       "    <tr>\n",
       "      <th>46121</th>\n",
       "      <td>restrictions.</td>\n",
       "      <td>1</td>\n",
       "      <td>1</td>\n",
       "      <td>46124.0</td>\n",
       "      <td>0.000001</td>\n",
       "      <td>0.999995</td>\n",
       "      <td>0.000131</td>\n",
       "    </tr>\n",
       "    <tr>\n",
       "      <th>46122</th>\n",
       "      <td>specially,</td>\n",
       "      <td>1</td>\n",
       "      <td>1</td>\n",
       "      <td>46125.0</td>\n",
       "      <td>0.000001</td>\n",
       "      <td>0.999996</td>\n",
       "      <td>0.000131</td>\n",
       "    </tr>\n",
       "    <tr>\n",
       "      <th>46125</th>\n",
       "      <td>digestion,</td>\n",
       "      <td>1</td>\n",
       "      <td>1</td>\n",
       "      <td>46126.0</td>\n",
       "      <td>0.000001</td>\n",
       "      <td>0.999998</td>\n",
       "      <td>0.000131</td>\n",
       "    </tr>\n",
       "    <tr>\n",
       "      <th>46124</th>\n",
       "      <td>Iced.</td>\n",
       "      <td>1</td>\n",
       "      <td>1</td>\n",
       "      <td>46127.0</td>\n",
       "      <td>0.000001</td>\n",
       "      <td>0.999999</td>\n",
       "      <td>0.000131</td>\n",
       "    </tr>\n",
       "    <tr>\n",
       "      <th>46127</th>\n",
       "      <td>YOU.</td>\n",
       "      <td>1</td>\n",
       "      <td>1</td>\n",
       "      <td>46128.0</td>\n",
       "      <td>0.000001</td>\n",
       "      <td>1.000000</td>\n",
       "      <td>0.000131</td>\n",
       "    </tr>\n",
       "  </tbody>\n",
       "</table>\n",
       "<p>46128 rows × 7 columns</p>\n",
       "</div>"
      ],
      "text/plain": [
       "                word  appears_in  count     rank  pct_total  cul_pct_total  \\\n",
       "3                the        6520  27779      1.0   0.034334       0.034334   \n",
       "14               and        6804  25748      2.0   0.031824       0.066157   \n",
       "48                          7616  22606      3.0   0.027940       0.094097   \n",
       "46                 a        6181  22085      4.0   0.027296       0.121394   \n",
       "0                  I        5469  19780      5.0   0.024447       0.145841   \n",
       "...              ...         ...    ...      ...        ...            ...   \n",
       "46121  restrictions.           1      1  46124.0   0.000001       0.999995   \n",
       "46122     specially,           1      1  46125.0   0.000001       0.999996   \n",
       "46125     digestion,           1      1  46126.0   0.000001       0.999998   \n",
       "46124          Iced.           1      1  46127.0   0.000001       0.999999   \n",
       "46127           YOU.           1      1  46128.0   0.000001       1.000000   \n",
       "\n",
       "       appears_in_pct  \n",
       "3            0.856092  \n",
       "14           0.893382  \n",
       "48           1.000000  \n",
       "46           0.811581  \n",
       "0            0.718093  \n",
       "...               ...  \n",
       "46121        0.000131  \n",
       "46122        0.000131  \n",
       "46125        0.000131  \n",
       "46124        0.000131  \n",
       "46127        0.000131  \n",
       "\n",
       "[46128 rows x 7 columns]"
      ]
     },
     "execution_count": 58,
     "metadata": {},
     "output_type": "execute_result"
    }
   ],
   "source": [
    "word_count = count(shops['tokenizer_tokens'])\n",
    "word_count"
   ]
  },
  {
   "cell_type": "code",
   "execution_count": 59,
   "metadata": {},
   "outputs": [],
   "source": [
    "# Spacy's Default Stop Words\n",
    "STOP_WORDS = nlp.Defaults.stop_words"
   ]
  },
  {
   "cell_type": "code",
   "execution_count": 61,
   "metadata": {},
   "outputs": [
    {
     "data": {
      "image/png": "[encoded data removed]",
      "text/plain": [
       "<Figure size 432x288 with 1 Axes>"
      ]
     },
     "metadata": {
      "needs_background": "light"
     },
     "output_type": "display_data"
    }
   ],
   "source": [
    "wc = count(shops['tokens'])\n",
    "\n",
    "wc_top20 = wc[wc['rank'] <= 20]\n",
    "\n",
    "squarify.plot(sizes=wc_top20['pct_total'], label=wc_top20['word'], alpha=.8 )\n",
    "plt.axis('off')\n",
    "plt.show()"
   ]
  },
  {
   "cell_type": "code",
   "execution_count": 62,
   "metadata": {},
   "outputs": [
    {
     "data": {
      "image/png": "[encoded data removed]",
      "text/plain": [
       "<Figure size 432x288 with 1 Axes>"
      ]
     },
     "metadata": {
      "needs_background": "light"
     },
     "output_type": "display_data"
    }
   ],
   "source": [
    "word_c = count(shops['tokenizer_tokens'])\n",
    "\n",
    "word_c_top20 = wc[wc['rank'] <= 20]\n",
    "\n",
    "squarify.plot(sizes=wc_top20['pct_total'], label=wc_top20['word'], alpha=.8 )\n",
    "plt.axis('off')\n",
    "plt.show()"
   ]
  },
  {
   "cell_type": "code",
   "execution_count": 63,
   "metadata": {},
   "outputs": [],
   "source": [
    "tokens = []\n",
    "\n",
    "for doc in tokenizer.pipe(shops['full_review_text'], batch_size=500):\n",
    "    \n",
    "    doc_tokens = []\n",
    "    \n",
    "    for token in doc: \n",
    "        if token.text.lower() not in STOP_WORDS:\n",
    "            doc_tokens.append(token.text.lower())\n",
    "   \n",
    "    tokens.append(doc_tokens)\n",
    "    \n",
    "shops['no_stopwords_tokens'] = tokens"
   ]
  },
  {
   "cell_type": "code",
   "execution_count": 64,
   "metadata": {},
   "outputs": [
    {
     "data": {
      "text/html": [
       "<div>\n",
       "<style scoped>\n",
       "    .dataframe tbody tr th:only-of-type {\n",
       "        vertical-align: middle;\n",
       "    }\n",
       "\n",
       "    .dataframe tbody tr th {\n",
       "        vertical-align: top;\n",
       "    }\n",
       "\n",
       "    .dataframe thead th {\n",
       "        text-align: right;\n",
       "    }\n",
       "</style>\n",
       "<table border=\"1\" class=\"dataframe\">\n",
       "  <thead>\n",
       "    <tr style=\"text-align: right;\">\n",
       "      <th></th>\n",
       "      <th>coffee_shop_name</th>\n",
       "      <th>full_review_text</th>\n",
       "      <th>star_rating</th>\n",
       "      <th>tokens</th>\n",
       "      <th>clean_rating</th>\n",
       "      <th>tokenizer_tokens</th>\n",
       "      <th>no_stopwords_tokens</th>\n",
       "    </tr>\n",
       "  </thead>\n",
       "  <tbody>\n",
       "    <tr>\n",
       "      <th>0</th>\n",
       "      <td>The Factory - Cafe With a Soul</td>\n",
       "      <td>11/25/2016 1 check-in Love love loved the atm...</td>\n",
       "      <td>5.0 star rating</td>\n",
       "      <td>[checkin, love, love, loved, the, atmosphere, ...</td>\n",
       "      <td>5.0</td>\n",
       "      <td>[ , 11/25/2016, 1, check-in, Love, love, loved...</td>\n",
       "      <td>[ , 11/25/2016, 1, check-in, love, love, loved...</td>\n",
       "    </tr>\n",
       "    <tr>\n",
       "      <th>1</th>\n",
       "      <td>The Factory - Cafe With a Soul</td>\n",
       "      <td>12/2/2016 Listed in Date Night: Austin, Ambia...</td>\n",
       "      <td>4.0 star rating</td>\n",
       "      <td>[listed, in, date, night, austin, ambiance, in...</td>\n",
       "      <td>4.0</td>\n",
       "      <td>[ , 12/2/2016, Listed, in, Date, Night:, Austi...</td>\n",
       "      <td>[ , 12/2/2016, listed, date, night:, austin,, ...</td>\n",
       "    </tr>\n",
       "    <tr>\n",
       "      <th>2</th>\n",
       "      <td>The Factory - Cafe With a Soul</td>\n",
       "      <td>11/30/2016 1 check-in Listed in Brunch Spots ...</td>\n",
       "      <td>4.0 star rating</td>\n",
       "      <td>[checkin, listed, in, brunch, spots, i, loved,...</td>\n",
       "      <td>4.0</td>\n",
       "      <td>[ , 11/30/2016, 1, check-in, Listed, in, Brunc...</td>\n",
       "      <td>[ , 11/30/2016, 1, check-in, listed, brunch, s...</td>\n",
       "    </tr>\n",
       "    <tr>\n",
       "      <th>3</th>\n",
       "      <td>The Factory - Cafe With a Soul</td>\n",
       "      <td>11/25/2016 Very cool decor! Good drinks Nice ...</td>\n",
       "      <td>2.0 star rating</td>\n",
       "      <td>[very, cool, decor, good, drinks, nice, seatin...</td>\n",
       "      <td>2.0</td>\n",
       "      <td>[ , 11/25/2016, Very, cool, decor!, Good, drin...</td>\n",
       "      <td>[ , 11/25/2016, cool, decor!, good, drinks, ni...</td>\n",
       "    </tr>\n",
       "    <tr>\n",
       "      <th>4</th>\n",
       "      <td>The Factory - Cafe With a Soul</td>\n",
       "      <td>12/3/2016 1 check-in They are located within ...</td>\n",
       "      <td>4.0 star rating</td>\n",
       "      <td>[checkin, they, are, located, within, the, nor...</td>\n",
       "      <td>4.0</td>\n",
       "      <td>[ , 12/3/2016, 1, check-in, They, are, located...</td>\n",
       "      <td>[ , 12/3/2016, 1, check-in, located, northcros...</td>\n",
       "    </tr>\n",
       "  </tbody>\n",
       "</table>\n",
       "</div>"
      ],
      "text/plain": [
       "                  coffee_shop_name  \\\n",
       "0  The Factory - Cafe With a Soul    \n",
       "1  The Factory - Cafe With a Soul    \n",
       "2  The Factory - Cafe With a Soul    \n",
       "3  The Factory - Cafe With a Soul    \n",
       "4  The Factory - Cafe With a Soul    \n",
       "\n",
       "                                    full_review_text        star_rating  \\\n",
       "0   11/25/2016 1 check-in Love love loved the atm...   5.0 star rating    \n",
       "1   12/2/2016 Listed in Date Night: Austin, Ambia...   4.0 star rating    \n",
       "2   11/30/2016 1 check-in Listed in Brunch Spots ...   4.0 star rating    \n",
       "3   11/25/2016 Very cool decor! Good drinks Nice ...   2.0 star rating    \n",
       "4   12/3/2016 1 check-in They are located within ...   4.0 star rating    \n",
       "\n",
       "                                              tokens clean_rating  \\\n",
       "0  [checkin, love, love, loved, the, atmosphere, ...          5.0   \n",
       "1  [listed, in, date, night, austin, ambiance, in...          4.0   \n",
       "2  [checkin, listed, in, brunch, spots, i, loved,...          4.0   \n",
       "3  [very, cool, decor, good, drinks, nice, seatin...          2.0   \n",
       "4  [checkin, they, are, located, within, the, nor...          4.0   \n",
       "\n",
       "                                    tokenizer_tokens  \\\n",
       "0  [ , 11/25/2016, 1, check-in, Love, love, loved...   \n",
       "1  [ , 12/2/2016, Listed, in, Date, Night:, Austi...   \n",
       "2  [ , 11/30/2016, 1, check-in, Listed, in, Brunc...   \n",
       "3  [ , 11/25/2016, Very, cool, decor!, Good, drin...   \n",
       "4  [ , 12/3/2016, 1, check-in, They, are, located...   \n",
       "\n",
       "                                 no_stopwords_tokens  \n",
       "0  [ , 11/25/2016, 1, check-in, love, love, loved...  \n",
       "1  [ , 12/2/2016, listed, date, night:, austin,, ...  \n",
       "2  [ , 11/30/2016, 1, check-in, listed, brunch, s...  \n",
       "3  [ , 11/25/2016, cool, decor!, good, drinks, ni...  \n",
       "4  [ , 12/3/2016, 1, check-in, located, northcros...  "
      ]
     },
     "execution_count": 64,
     "metadata": {},
     "output_type": "execute_result"
    }
   ],
   "source": [
    "shops.head()"
   ]
  },
  {
   "cell_type": "code",
   "execution_count": 65,
   "metadata": {},
   "outputs": [
    {
     "data": {
      "text/html": [
       "<div>\n",
       "<style scoped>\n",
       "    .dataframe tbody tr th:only-of-type {\n",
       "        vertical-align: middle;\n",
       "    }\n",
       "\n",
       "    .dataframe tbody tr th {\n",
       "        vertical-align: top;\n",
       "    }\n",
       "\n",
       "    .dataframe thead th {\n",
       "        text-align: right;\n",
       "    }\n",
       "</style>\n",
       "<table border=\"1\" class=\"dataframe\">\n",
       "  <thead>\n",
       "    <tr style=\"text-align: right;\">\n",
       "      <th></th>\n",
       "      <th>word</th>\n",
       "      <th>appears_in</th>\n",
       "      <th>count</th>\n",
       "      <th>rank</th>\n",
       "      <th>pct_total</th>\n",
       "      <th>cul_pct_total</th>\n",
       "      <th>appears_in_pct</th>\n",
       "    </tr>\n",
       "  </thead>\n",
       "  <tbody>\n",
       "    <tr>\n",
       "      <th>27</th>\n",
       "      <td></td>\n",
       "      <td>7616</td>\n",
       "      <td>22606</td>\n",
       "      <td>1.0</td>\n",
       "      <td>0.053125</td>\n",
       "      <td>0.053125</td>\n",
       "      <td>1.000000</td>\n",
       "    </tr>\n",
       "    <tr>\n",
       "      <th>10</th>\n",
       "      <td>coffee</td>\n",
       "      <td>4210</td>\n",
       "      <td>8058</td>\n",
       "      <td>2.0</td>\n",
       "      <td>0.018937</td>\n",
       "      <td>0.072062</td>\n",
       "      <td>0.552784</td>\n",
       "    </tr>\n",
       "    <tr>\n",
       "      <th>143</th>\n",
       "      <td>place</td>\n",
       "      <td>3029</td>\n",
       "      <td>4264</td>\n",
       "      <td>3.0</td>\n",
       "      <td>0.010021</td>\n",
       "      <td>0.082083</td>\n",
       "      <td>0.397715</td>\n",
       "    </tr>\n",
       "    <tr>\n",
       "      <th>163</th>\n",
       "      <td>great</td>\n",
       "      <td>2438</td>\n",
       "      <td>3250</td>\n",
       "      <td>4.0</td>\n",
       "      <td>0.007638</td>\n",
       "      <td>0.089721</td>\n",
       "      <td>0.320116</td>\n",
       "    </tr>\n",
       "    <tr>\n",
       "      <th>273</th>\n",
       "      <td>it's</td>\n",
       "      <td>2061</td>\n",
       "      <td>3117</td>\n",
       "      <td>5.0</td>\n",
       "      <td>0.007325</td>\n",
       "      <td>0.097046</td>\n",
       "      <td>0.270614</td>\n",
       "    </tr>\n",
       "  </tbody>\n",
       "</table>\n",
       "</div>"
      ],
      "text/plain": [
       "       word  appears_in  count  rank  pct_total  cul_pct_total  appears_in_pct\n",
       "27                 7616  22606   1.0   0.053125       0.053125        1.000000\n",
       "10   coffee        4210   8058   2.0   0.018937       0.072062        0.552784\n",
       "143   place        3029   4264   3.0   0.010021       0.082083        0.397715\n",
       "163   great        2438   3250   4.0   0.007638       0.089721        0.320116\n",
       "273    it's        2061   3117   5.0   0.007325       0.097046        0.270614"
      ]
     },
     "execution_count": 65,
     "metadata": {},
     "output_type": "execute_result"
    }
   ],
   "source": [
    "word_count = count(shops['no_stopwords_tokens'])\n",
    "word_count.head()"
   ]
  },
  {
   "cell_type": "code",
   "execution_count": null,
   "metadata": {},
   "outputs": [],
   "source": []
  },
  {
   "cell_type": "markdown",
   "metadata": {},
   "source": [
    "## Can visualize the words with the greatest difference in counts between 'good' & 'bad'?\n",
    "\n",
    "Couple Notes: \n",
    "- Rel. freq. instead of absolute counts b/c of different numbers of reviews\n",
    "- Only look at the top 5-10 words with the greatest differences\n"
   ]
  },
  {
   "cell_type": "code",
   "execution_count": null,
   "metadata": {},
   "outputs": [],
   "source": []
  },
  {
   "cell_type": "code",
   "execution_count": null,
   "metadata": {},
   "outputs": [],
   "source": []
  },
  {
   "cell_type": "code",
   "execution_count": 46,
   "metadata": {},
   "outputs": [],
   "source": []
  },
  {
   "cell_type": "markdown",
   "metadata": {
    "colab_type": "text",
    "id": "1dCb1q8XphcP",
    "toc-hr-collapsed": true
   },
   "source": [
    "## Stretch Goals\n",
    "\n",
    "* Analyze another corpus of documents - such as Indeed.com job listings ;).\n",
    "* Play with the Spacy API to\n",
    " - Extract Named Entities\n",
    " - Extracting 'noun chunks'\n",
    " - Attempt Document Classification with just Spacy\n",
    " - *Note:* This [course](https://course.spacy.io/) will be of interesting in helping you with these stretch goals. \n",
    "* Try to build a plotly dash app with your text data \n",
    "\n"
   ]
  }
 ],
 "metadata": {
  "colab": {
   "collapsed_sections": [],
   "name": "LS_DS_421_Text_Data_Assignment.ipynb",
   "provenance": [],
   "version": "0.3.2"
  },
  "kernelspec": {
   "display_name": "Python 3",
   "language": "python",
   "name": "python3"
  },
  "language_info": {
   "codemirror_mode": {
    "name": "ipython",
    "version": 3
   },
   "file_extension": ".py",
   "mimetype": "text/x-python",
   "name": "python",
   "nbconvert_exporter": "python",
   "pygments_lexer": "ipython3",
   "version": "3.8.3"
  },
  "toc-autonumbering": false
 },
 "nbformat": 4,
 "nbformat_minor": 4
}
