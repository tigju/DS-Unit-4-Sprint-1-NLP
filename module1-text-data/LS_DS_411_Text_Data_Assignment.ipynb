{
 "cells": [
  {
   "cell_type": "markdown",
   "metadata": {},
   "source": [
    "<img align=\"left\" src=\"https://lever-client-logos.s3.amazonaws.com/864372b1-534c-480e-acd5-9711f850815c-1524247202159.png\" width=200>\n",
    "<br></br>\n",
    "<br></br>\n",
    "\n",
    "# Natural Language Processing (NLP)\n",
    "## *Data Science Unit 4 Sprint 1 Assignment 1*\n",
    "\n",
    "Your goal in this assignment: find the attributes of the best & worst coffee shops in the dataset. The text is fairly raw: dates in the review, extra words in the `star_rating` column, etc. You'll probably want to clean that stuff up for a better analysis. \n",
    "\n",
    "Analyze the corpus of text using text visualizations of token frequency. Try cleaning the data as much as possible. Try the following techniques: \n",
    "- Lemmatization\n",
    "- Custom stopword removal\n",
    "\n",
    "Keep in mind the attributes of good tokens. Once you have a solid baseline, layer in the star rating in your visualization(s). Key part of this assignment - produce a write-up of the attributes of the best and worst coffee shops. Based on your analysis, what makes the best the best and the worst the worst. Use graphs and numbesr from your analysis to support your conclusions. There should be plenty of markdown cells! :coffee:"
   ]
  },
  {
   "cell_type": "code",
   "execution_count": 1,
   "metadata": {},
   "outputs": [
    {
     "data": {
      "image/jpeg": "[encoded data removed]",
      "text/html": [
       "\n",
       "        <iframe\n",
       "            width=\"400\"\n",
       "            height=\"300\"\n",
       "            src=\"https://www.youtube.com/embed/Jml7NVYm8cs\"\n",
       "            frameborder=\"0\"\n",
       "            allowfullscreen\n",
       "        ></iframe>\n",
       "        "
      ],
      "text/plain": [
       "<IPython.lib.display.YouTubeVideo at 0x7f868dd6acd0>"
      ]
     },
     "execution_count": 1,
     "metadata": {},
     "output_type": "execute_result"
    }
   ],
   "source": [
    "from IPython.display import YouTubeVideo\n",
    "\n",
    "YouTubeVideo('Jml7NVYm8cs')"
   ]
  },
  {
   "cell_type": "code",
   "execution_count": 32,
   "metadata": {},
   "outputs": [
    {
     "data": {
      "text/plain": [
       "'/mnt/c/Users/tigju/Documents/Lambda School/DS-Unit-4-Sprint-1-NLP/module1-text-data'"
      ]
     },
     "execution_count": 32,
     "metadata": {},
     "output_type": "execute_result"
    }
   ],
   "source": [
    "%pwd"
   ]
  },
  {
   "cell_type": "code",
   "execution_count": 152,
   "metadata": {},
   "outputs": [
    {
     "data": {
      "text/html": [
       "<div>\n",
       "<style scoped>\n",
       "    .dataframe tbody tr th:only-of-type {\n",
       "        vertical-align: middle;\n",
       "    }\n",
       "\n",
       "    .dataframe tbody tr th {\n",
       "        vertical-align: top;\n",
       "    }\n",
       "\n",
       "    .dataframe thead th {\n",
       "        text-align: right;\n",
       "    }\n",
       "</style>\n",
       "<table border=\"1\" class=\"dataframe\">\n",
       "  <thead>\n",
       "    <tr style=\"text-align: right;\">\n",
       "      <th></th>\n",
       "      <th>coffee_shop_name</th>\n",
       "      <th>full_review_text</th>\n",
       "      <th>star_rating</th>\n",
       "    </tr>\n",
       "  </thead>\n",
       "  <tbody>\n",
       "    <tr>\n",
       "      <th>0</th>\n",
       "      <td>The Factory - Cafe With a Soul</td>\n",
       "      <td>11/25/2016 1 check-in Love love loved the atm...</td>\n",
       "      <td>5.0 star rating</td>\n",
       "    </tr>\n",
       "    <tr>\n",
       "      <th>1</th>\n",
       "      <td>The Factory - Cafe With a Soul</td>\n",
       "      <td>12/2/2016 Listed in Date Night: Austin, Ambia...</td>\n",
       "      <td>4.0 star rating</td>\n",
       "    </tr>\n",
       "    <tr>\n",
       "      <th>2</th>\n",
       "      <td>The Factory - Cafe With a Soul</td>\n",
       "      <td>11/30/2016 1 check-in Listed in Brunch Spots ...</td>\n",
       "      <td>4.0 star rating</td>\n",
       "    </tr>\n",
       "    <tr>\n",
       "      <th>3</th>\n",
       "      <td>The Factory - Cafe With a Soul</td>\n",
       "      <td>11/25/2016 Very cool decor! Good drinks Nice ...</td>\n",
       "      <td>2.0 star rating</td>\n",
       "    </tr>\n",
       "    <tr>\n",
       "      <th>4</th>\n",
       "      <td>The Factory - Cafe With a Soul</td>\n",
       "      <td>12/3/2016 1 check-in They are located within ...</td>\n",
       "      <td>4.0 star rating</td>\n",
       "    </tr>\n",
       "  </tbody>\n",
       "</table>\n",
       "</div>"
      ],
      "text/plain": [
       "                  coffee_shop_name  \\\n",
       "0  The Factory - Cafe With a Soul    \n",
       "1  The Factory - Cafe With a Soul    \n",
       "2  The Factory - Cafe With a Soul    \n",
       "3  The Factory - Cafe With a Soul    \n",
       "4  The Factory - Cafe With a Soul    \n",
       "\n",
       "                                    full_review_text        star_rating  \n",
       "0   11/25/2016 1 check-in Love love loved the atm...   5.0 star rating   \n",
       "1   12/2/2016 Listed in Date Night: Austin, Ambia...   4.0 star rating   \n",
       "2   11/30/2016 1 check-in Listed in Brunch Spots ...   4.0 star rating   \n",
       "3   11/25/2016 Very cool decor! Good drinks Nice ...   2.0 star rating   \n",
       "4   12/3/2016 1 check-in They are located within ...   4.0 star rating   "
      ]
     },
     "execution_count": 152,
     "metadata": {},
     "output_type": "execute_result"
    }
   ],
   "source": [
    "import pandas as pd\n",
    "\n",
    "url = \"https://raw.githubusercontent.com/LambdaSchool/DS-Unit-4-Sprint-1-NLP/main/module1-text-data/data/yelp_coffeeshop_review_data.csv\"\n",
    "\n",
    "shops = pd.read_csv(url)\n",
    "shops.head()"
   ]
  },
  {
   "cell_type": "code",
   "execution_count": 153,
   "metadata": {},
   "outputs": [
    {
     "data": {
      "text/plain": [
       "Epoch Coffee                            400\n",
       "Halcyon                                 300\n",
       "The Factory - Cafe With a Soul          244\n",
       "Houndstooth Coffee                      200\n",
       "Venezia Italian Gelato                  200\n",
       "                                       ... \n",
       "Lucky Lab Coffee                         25\n",
       "Sister Coffee                            17\n",
       "Kowabunga Coffee                         16\n",
       "The Marvelous Vintage Tea Party Co.      10\n",
       "Lola Savannah Coffee Downtown             4\n",
       "Name: coffee_shop_name, Length: 79, dtype: int64"
      ]
     },
     "execution_count": 153,
     "metadata": {},
     "output_type": "execute_result"
    }
   ],
   "source": [
    "shops['coffee_shop_name'].value_counts()"
   ]
  },
  {
   "cell_type": "code",
   "execution_count": 154,
   "metadata": {},
   "outputs": [
    {
     "data": {
      "text/plain": [
       " 5.0 star rating     3780\n",
       " 4.0 star rating     2360\n",
       " 3.0 star rating      738\n",
       " 2.0 star rating      460\n",
       " 1.0 star rating      278\n",
       "Name: star_rating, dtype: int64"
      ]
     },
     "execution_count": 154,
     "metadata": {},
     "output_type": "execute_result"
    }
   ],
   "source": [
    "shops['star_rating'].value_counts()"
   ]
  },
  {
   "cell_type": "code",
   "execution_count": 155,
   "metadata": {},
   "outputs": [
    {
     "data": {
      "text/plain": [
       " 11/10/2016 3 check-ins This place has been shown on my social media for days so i finally visited! One of THE cutest and artistic looking coffeeshops I have ever visited. You can self order which is nice because you can take your time and look at the pictures to help you decide! I especially liked how pictures were shown so I knew which coffee/tea came out aesthetically  I ordered the famous matcha green latte and i dont usually drink coffee but it went beyond my expectations. They give you a good amount and its creamy and sweet. Only downside is no wifi.. So hard to study here. Matcha green tea and living la vida mocha Matcha green tea latte Interior design See all photos from Sarah L. for The Factory - Cafe With a Soul                                                                                                                                                                                                                                                                                                                                                                                                                                                                                                                                                                                                                                           4\n",
       " 10/27/2016 2 check-ins Listed in \"Nuptial Coffee Bliss!\", Anderson Lane is the new Black Oh hey, the pro vs con format. I've never used that before. Let's try it:  Pros: 1. This place is cooler than I thought. 2. It's open until 2am. No, really. 3. They have beer & wine. I didn't know that until I saw the beer taps. They offered me a sample.  Cons: 1. If you have to describe The Factory with one word, it probably won't be \"inexpensive.\"  I don't think they're shooting for the \"Sixth Coffeehouse on Anderson Lane but with Flash\" title here, I think they really want to be the official bistro in the neighborhood - far more casual than Bartlett or Hopdoddy, but with a lot more flair than Tea Haus or Starbuck Evenings. Staying open until 2am is a good start, and let's see if they add more to the menu. Remember, no one thought that gentrified Walmart would do well either.  In the meantime, have fun with those chicken & waffles, and their colorful matcha-infused coffees. I'm only interested in straight black, and their pourover Stumptown is great stuff. Try the $5 pop tart at least once, mainly because you can. And then let's meet back here in a couple of weeks, just to see what's been tweaked. This place defines hipster man-cave. I liked the long table with 1/2 bar chairs & stools, & the cool plates & cups. There's a $5 pop tart.     4\n",
       " 11/17/2016 1 check-in Listed in 2016 - The Third Time is a Charm! The Factory has A+ decor and a very innovative interactionless (tablet) ordering system. This allows you to look up what to get without feeling pressured by a barista staring at you waiting for you to order. The eclectic selection of tables, couches, and swings (?!) inside with a small kiddy corner appeal to many different types of tastes. This is seriously a cool place to hang out.  However, when it comes to the coffee and food, it's rather not cheap. The waffles range from $4-$8, and coffee is between $3.50 and $5. The quality of the coffee is not yet up to par with other coffee mainstays in Austin, so I would probably not choose to come here just for coffee. However, it is a CUTE date place and I know that M and I will probably come back to chat, people-watch, or read books.                                                                                                                                                                                                                                                                                                                                                                                                                                                                                                               4\n",
       " 11/12/2016 Great coffee, food and atmosphere! Love the set-up. Order on an iPad and they call your name out when your food is ready.                                                                                                                                                                                                                                                                                                                                                                                                                                                                                                                                                                                                                                                                                                                                                                                                                                                                                                                                                                                                                                                                                                                                                                                                                                                                 4\n",
       " 11/21/2016 This spot is super cute (\"like eating in a Pottery Barn\"), with drinks that are unique and with a somewhat limited menu. We tried the chicken and waffles, which was surprisingly delicious and our drinks were also tasty. I had the Livin La Vida Mocha and my husband had the pour over. I will definitely return with company, but prices weren't good enough to make this a regular stop in our rotation.                                                                                                                                                                                                                                                                                                                                                                                                                                                                                                                                                                                                                                                                                                                                                                                                                                                                                                                                                                            4\n",
       "Name: full_review_text, dtype: int64"
      ]
     },
     "execution_count": 155,
     "metadata": {},
     "output_type": "execute_result"
    }
   ],
   "source": [
    "shops['full_review_text'].value_counts()[:5]"
   ]
  },
  {
   "cell_type": "markdown",
   "metadata": {},
   "source": [
    "## How do we want to analyze these coffee shop tokens? \n",
    "\n",
    "- Overall Word / Token Count\n",
    "- View Counts by Rating \n",
    "- *Hint:* a 'bad' coffee shops has a rating betweeen 1 & 3 based on the distribution of ratings. A 'good' coffee shop is a 4 or 5. "
   ]
  },
  {
   "cell_type": "code",
   "execution_count": 156,
   "metadata": {},
   "outputs": [
    {
     "data": {
      "text/html": [
       "<div>\n",
       "<style scoped>\n",
       "    .dataframe tbody tr th:only-of-type {\n",
       "        vertical-align: middle;\n",
       "    }\n",
       "\n",
       "    .dataframe tbody tr th {\n",
       "        vertical-align: top;\n",
       "    }\n",
       "\n",
       "    .dataframe thead th {\n",
       "        text-align: right;\n",
       "    }\n",
       "</style>\n",
       "<table border=\"1\" class=\"dataframe\">\n",
       "  <thead>\n",
       "    <tr style=\"text-align: right;\">\n",
       "      <th></th>\n",
       "      <th>coffee_shop_name</th>\n",
       "      <th>full_review_text</th>\n",
       "      <th>star_rating</th>\n",
       "      <th>clean_full_review_text</th>\n",
       "      <th>clean_rating</th>\n",
       "    </tr>\n",
       "  </thead>\n",
       "  <tbody>\n",
       "    <tr>\n",
       "      <th>0</th>\n",
       "      <td>The Factory - Cafe With a Soul</td>\n",
       "      <td>11/25/2016 1 check-in Love love loved the atm...</td>\n",
       "      <td>5.0 star rating</td>\n",
       "      <td>check-in Love love loved the atmosphere! Ev...</td>\n",
       "      <td>5</td>\n",
       "    </tr>\n",
       "    <tr>\n",
       "      <th>1</th>\n",
       "      <td>The Factory - Cafe With a Soul</td>\n",
       "      <td>12/2/2016 Listed in Date Night: Austin, Ambia...</td>\n",
       "      <td>4.0 star rating</td>\n",
       "      <td>Listed in Date Night: Austin, Ambiance in Au...</td>\n",
       "      <td>4</td>\n",
       "    </tr>\n",
       "    <tr>\n",
       "      <th>2</th>\n",
       "      <td>The Factory - Cafe With a Soul</td>\n",
       "      <td>11/30/2016 1 check-in Listed in Brunch Spots ...</td>\n",
       "      <td>4.0 star rating</td>\n",
       "      <td>check-in Listed in Brunch Spots I loved the...</td>\n",
       "      <td>4</td>\n",
       "    </tr>\n",
       "  </tbody>\n",
       "</table>\n",
       "</div>"
      ],
      "text/plain": [
       "                  coffee_shop_name  \\\n",
       "0  The Factory - Cafe With a Soul    \n",
       "1  The Factory - Cafe With a Soul    \n",
       "2  The Factory - Cafe With a Soul    \n",
       "\n",
       "                                    full_review_text        star_rating  \\\n",
       "0   11/25/2016 1 check-in Love love loved the atm...   5.0 star rating    \n",
       "1   12/2/2016 Listed in Date Night: Austin, Ambia...   4.0 star rating    \n",
       "2   11/30/2016 1 check-in Listed in Brunch Spots ...   4.0 star rating    \n",
       "\n",
       "                              clean_full_review_text  clean_rating  \n",
       "0     check-in Love love loved the atmosphere! Ev...             5  \n",
       "1    Listed in Date Night: Austin, Ambiance in Au...             4  \n",
       "2     check-in Listed in Brunch Spots I loved the...             4  "
      ]
     },
     "execution_count": 156,
     "metadata": {},
     "output_type": "execute_result"
    }
   ],
   "source": [
    "# clean up star rating\n",
    "import re\n",
    "\n",
    "shops['clean_full_review_text'] = shops['full_review_text'].apply(lambda x: re.sub('[\\d/]', '', x))\n",
    "shops['clean_rating'] = shops['star_rating'].apply(lambda x: int(re.sub('[^1-5]', '', x)))\n",
    "\n",
    "shops.head(3)"
   ]
  },
  {
   "cell_type": "code",
   "execution_count": 157,
   "metadata": {},
   "outputs": [
    {
     "data": {
      "text/plain": [
       "numpy.int64"
      ]
     },
     "execution_count": 157,
     "metadata": {},
     "output_type": "execute_result"
    }
   ],
   "source": [
    "type(shops['clean_rating'][0])"
   ]
  },
  {
   "cell_type": "code",
   "execution_count": 158,
   "metadata": {},
   "outputs": [],
   "source": [
    "# convert text to tokens\n",
    "import spacy\n",
    "from spacy.tokenizer import Tokenizer\n",
    "\n",
    "nlp = spacy.load(\"en_core_web_lg\")\n",
    "\n",
    "# Tokenizer\n",
    "tokenizer = Tokenizer(nlp.vocab)"
   ]
  },
  {
   "cell_type": "code",
   "execution_count": 159,
   "metadata": {},
   "outputs": [],
   "source": [
    "# Tokenizer Pipe\n",
    "\n",
    "tokens = []\n",
    "\n",
    "\"\"\" Make them tokens \"\"\"\n",
    "for doc in tokenizer.pipe(shops['clean_full_review_text'], batch_size=500):\n",
    "    doc_tokens = [token.text for token in doc]\n",
    "    tokens.append(doc_tokens)\n",
    "\n",
    "shops['tokens'] = tokens"
   ]
  },
  {
   "cell_type": "code",
   "execution_count": 160,
   "metadata": {},
   "outputs": [
    {
     "data": {
      "text/html": [
       "<div>\n",
       "<style scoped>\n",
       "    .dataframe tbody tr th:only-of-type {\n",
       "        vertical-align: middle;\n",
       "    }\n",
       "\n",
       "    .dataframe tbody tr th {\n",
       "        vertical-align: top;\n",
       "    }\n",
       "\n",
       "    .dataframe thead th {\n",
       "        text-align: right;\n",
       "    }\n",
       "</style>\n",
       "<table border=\"1\" class=\"dataframe\">\n",
       "  <thead>\n",
       "    <tr style=\"text-align: right;\">\n",
       "      <th></th>\n",
       "      <th>coffee_shop_name</th>\n",
       "      <th>full_review_text</th>\n",
       "      <th>star_rating</th>\n",
       "      <th>clean_full_review_text</th>\n",
       "      <th>clean_rating</th>\n",
       "      <th>tokens</th>\n",
       "    </tr>\n",
       "  </thead>\n",
       "  <tbody>\n",
       "    <tr>\n",
       "      <th>0</th>\n",
       "      <td>The Factory - Cafe With a Soul</td>\n",
       "      <td>11/25/2016 1 check-in Love love loved the atm...</td>\n",
       "      <td>5.0 star rating</td>\n",
       "      <td>check-in Love love loved the atmosphere! Ev...</td>\n",
       "      <td>5</td>\n",
       "      <td>[   , check-in, Love, love, loved, the, atmosp...</td>\n",
       "    </tr>\n",
       "    <tr>\n",
       "      <th>1</th>\n",
       "      <td>The Factory - Cafe With a Soul</td>\n",
       "      <td>12/2/2016 Listed in Date Night: Austin, Ambia...</td>\n",
       "      <td>4.0 star rating</td>\n",
       "      <td>Listed in Date Night: Austin, Ambiance in Au...</td>\n",
       "      <td>4</td>\n",
       "      <td>[  , Listed, in, Date, Night:, Austin,, Ambian...</td>\n",
       "    </tr>\n",
       "    <tr>\n",
       "      <th>2</th>\n",
       "      <td>The Factory - Cafe With a Soul</td>\n",
       "      <td>11/30/2016 1 check-in Listed in Brunch Spots ...</td>\n",
       "      <td>4.0 star rating</td>\n",
       "      <td>check-in Listed in Brunch Spots I loved the...</td>\n",
       "      <td>4</td>\n",
       "      <td>[   , check-in, Listed, in, Brunch, Spots, I, ...</td>\n",
       "    </tr>\n",
       "  </tbody>\n",
       "</table>\n",
       "</div>"
      ],
      "text/plain": [
       "                  coffee_shop_name  \\\n",
       "0  The Factory - Cafe With a Soul    \n",
       "1  The Factory - Cafe With a Soul    \n",
       "2  The Factory - Cafe With a Soul    \n",
       "\n",
       "                                    full_review_text        star_rating  \\\n",
       "0   11/25/2016 1 check-in Love love loved the atm...   5.0 star rating    \n",
       "1   12/2/2016 Listed in Date Night: Austin, Ambia...   4.0 star rating    \n",
       "2   11/30/2016 1 check-in Listed in Brunch Spots ...   4.0 star rating    \n",
       "\n",
       "                              clean_full_review_text  clean_rating  \\\n",
       "0     check-in Love love loved the atmosphere! Ev...             5   \n",
       "1    Listed in Date Night: Austin, Ambiance in Au...             4   \n",
       "2     check-in Listed in Brunch Spots I loved the...             4   \n",
       "\n",
       "                                              tokens  \n",
       "0  [   , check-in, Love, love, loved, the, atmosp...  \n",
       "1  [  , Listed, in, Date, Night:, Austin,, Ambian...  \n",
       "2  [   , check-in, Listed, in, Brunch, Spots, I, ...  "
      ]
     },
     "execution_count": 160,
     "metadata": {},
     "output_type": "execute_result"
    }
   ],
   "source": [
    "shops.head(3)"
   ]
  },
  {
   "cell_type": "code",
   "execution_count": 161,
   "metadata": {},
   "outputs": [
    {
     "data": {
      "text/plain": [
       "0    [   , check-in, Love, love, loved, the, atmosp...\n",
       "1    [  , Listed, in, Date, Night:, Austin,, Ambian...\n",
       "2    [   , check-in, Listed, in, Brunch, Spots, I, ...\n",
       "3    [  , Very, cool, decor!, Good, drinks, Nice, s...\n",
       "4    [   , check-in, They, are, located, within, th...\n",
       "Name: tokens, dtype: object"
      ]
     },
     "execution_count": 161,
     "metadata": {},
     "output_type": "execute_result"
    }
   ],
   "source": [
    "shops['tokens'].head()"
   ]
  },
  {
   "cell_type": "code",
   "execution_count": 162,
   "metadata": {},
   "outputs": [
    {
     "data": {
      "text/plain": [
       "[('the', 27779),\n",
       " ('and', 25748),\n",
       " ('a', 22085),\n",
       " ('I', 19780),\n",
       " (' ', 17390),\n",
       " ('to', 16904),\n",
       " ('of', 12495),\n",
       " ('is', 11748),\n",
       " ('was', 9539),\n",
       " ('in', 8901),\n",
       " ('for', 8244),\n",
       " ('coffee', 7318),\n",
       " ('The', 6812),\n",
       " ('it', 6370),\n",
       " ('with', 6103),\n",
       " ('but', 5701),\n",
       " ('that', 5607),\n",
       " ('  ', 5063),\n",
       " ('my', 5004),\n",
       " ('you', 4966)]"
      ]
     },
     "execution_count": 162,
     "metadata": {},
     "output_type": "execute_result"
    }
   ],
   "source": [
    "# Object from Base Python\n",
    "from collections import Counter\n",
    "\n",
    "# The object `Counter` takes an iterable, but you can instaniate an empty one and update it. \n",
    "word_counts = Counter()\n",
    "\n",
    "# Update it based on a split of each of our documents\n",
    "shops['tokens'].apply(lambda x: word_counts.update(x))\n",
    "\n",
    "# Print out the 10 most common words\n",
    "word_counts.most_common(20)"
   ]
  },
  {
   "cell_type": "code",
   "execution_count": 163,
   "metadata": {},
   "outputs": [],
   "source": [
    "# fuction which takes a corpus of document and returns and dataframe of word counts for us to analyze.\n",
    "def count(docs):\n",
    "\n",
    "        word_counts = Counter()\n",
    "        appears_in = Counter()\n",
    "        \n",
    "        total_docs = len(docs)\n",
    "\n",
    "        for doc in docs:\n",
    "            word_counts.update(doc)\n",
    "            appears_in.update(set(doc))\n",
    "\n",
    "        temp = zip(word_counts.keys(), word_counts.values())\n",
    "        \n",
    "        wc = pd.DataFrame(temp, columns = ['word', 'count'])\n",
    "\n",
    "        wc['rank'] = wc['count'].rank(method='first', ascending=False)\n",
    "        total = wc['count'].sum()\n",
    "\n",
    "        wc['pct_total'] = wc['count'].apply(lambda x: x / total)\n",
    "        \n",
    "        wc = wc.sort_values(by='rank')\n",
    "        wc['cul_pct_total'] = wc['pct_total'].cumsum()\n",
    "\n",
    "        t2 = zip(appears_in.keys(), appears_in.values())\n",
    "        ac = pd.DataFrame(t2, columns=['word', 'appears_in'])\n",
    "        wc = ac.merge(wc, on='word')\n",
    "\n",
    "        wc['appears_in_pct'] = wc['appears_in'].apply(lambda x: x / total_docs)\n",
    "        \n",
    "        return wc.sort_values(by='rank')"
   ]
  },
  {
   "cell_type": "code",
   "execution_count": 164,
   "metadata": {},
   "outputs": [],
   "source": [
    "# Use the Function\n",
    "wc = count(shops['tokens'])"
   ]
  },
  {
   "cell_type": "code",
   "execution_count": 165,
   "metadata": {},
   "outputs": [
    {
     "data": {
      "text/html": [
       "<div>\n",
       "<style scoped>\n",
       "    .dataframe tbody tr th:only-of-type {\n",
       "        vertical-align: middle;\n",
       "    }\n",
       "\n",
       "    .dataframe tbody tr th {\n",
       "        vertical-align: top;\n",
       "    }\n",
       "\n",
       "    .dataframe thead th {\n",
       "        text-align: right;\n",
       "    }\n",
       "</style>\n",
       "<table border=\"1\" class=\"dataframe\">\n",
       "  <thead>\n",
       "    <tr style=\"text-align: right;\">\n",
       "      <th></th>\n",
       "      <th>word</th>\n",
       "      <th>appears_in</th>\n",
       "      <th>count</th>\n",
       "      <th>rank</th>\n",
       "      <th>pct_total</th>\n",
       "      <th>cul_pct_total</th>\n",
       "      <th>appears_in_pct</th>\n",
       "    </tr>\n",
       "  </thead>\n",
       "  <tbody>\n",
       "    <tr>\n",
       "      <th>25</th>\n",
       "      <td>the</td>\n",
       "      <td>6520</td>\n",
       "      <td>27779</td>\n",
       "      <td>1.0</td>\n",
       "      <td>0.034788</td>\n",
       "      <td>0.034788</td>\n",
       "      <td>0.856092</td>\n",
       "    </tr>\n",
       "    <tr>\n",
       "      <th>0</th>\n",
       "      <td>and</td>\n",
       "      <td>6804</td>\n",
       "      <td>25748</td>\n",
       "      <td>2.0</td>\n",
       "      <td>0.032244</td>\n",
       "      <td>0.067032</td>\n",
       "      <td>0.893382</td>\n",
       "    </tr>\n",
       "    <tr>\n",
       "      <th>2</th>\n",
       "      <td>a</td>\n",
       "      <td>6181</td>\n",
       "      <td>22085</td>\n",
       "      <td>3.0</td>\n",
       "      <td>0.027657</td>\n",
       "      <td>0.094689</td>\n",
       "      <td>0.811581</td>\n",
       "    </tr>\n",
       "    <tr>\n",
       "      <th>75</th>\n",
       "      <td>I</td>\n",
       "      <td>5469</td>\n",
       "      <td>19780</td>\n",
       "      <td>4.0</td>\n",
       "      <td>0.024770</td>\n",
       "      <td>0.119459</td>\n",
       "      <td>0.718093</td>\n",
       "    </tr>\n",
       "    <tr>\n",
       "      <th>68</th>\n",
       "      <td></td>\n",
       "      <td>4787</td>\n",
       "      <td>17390</td>\n",
       "      <td>5.0</td>\n",
       "      <td>0.021777</td>\n",
       "      <td>0.141237</td>\n",
       "      <td>0.628545</td>\n",
       "    </tr>\n",
       "  </tbody>\n",
       "</table>\n",
       "</div>"
      ],
      "text/plain": [
       "   word  appears_in  count  rank  pct_total  cul_pct_total  appears_in_pct\n",
       "25  the        6520  27779   1.0   0.034788       0.034788        0.856092\n",
       "0   and        6804  25748   2.0   0.032244       0.067032        0.893382\n",
       "2     a        6181  22085   3.0   0.027657       0.094689        0.811581\n",
       "75    I        5469  19780   4.0   0.024770       0.119459        0.718093\n",
       "68             4787  17390   5.0   0.021777       0.141237        0.628545"
      ]
     },
     "execution_count": 165,
     "metadata": {},
     "output_type": "execute_result"
    }
   ],
   "source": [
    "wc.head()"
   ]
  },
  {
   "cell_type": "code",
   "execution_count": 168,
   "metadata": {},
   "outputs": [
    {
     "data": {
      "image/png": "[encoded data removed]",
      "text/plain": [
       "<Figure size 432x288 with 1 Axes>"
      ]
     },
     "metadata": {
      "needs_background": "light"
     },
     "output_type": "display_data"
    }
   ],
   "source": [
    "import seaborn as sns\n",
    "\n",
    "# Cumulative Distribution Plot\n",
    "sns.lineplot(x='rank', y='cul_pct_total', data=wc);"
   ]
  },
  {
   "cell_type": "code",
   "execution_count": 169,
   "metadata": {},
   "outputs": [
    {
     "data": {
      "text/plain": [
       "0.49114686843716776"
      ]
     },
     "execution_count": 169,
     "metadata": {},
     "output_type": "execute_result"
    }
   ],
   "source": [
    "wc[wc['rank'] <= 100]['cul_pct_total'].max()"
   ]
  },
  {
   "cell_type": "code",
   "execution_count": 170,
   "metadata": {},
   "outputs": [
    {
     "data": {
      "image/png": "[encoded data removed]",
      "text/plain": [
       "<Figure size 432x288 with 1 Axes>"
      ]
     },
     "metadata": {
      "needs_background": "light"
     },
     "output_type": "display_data"
    }
   ],
   "source": [
    "import squarify\n",
    "import matplotlib.pyplot as plt\n",
    "\n",
    "wc_top20 = wc[wc['rank'] <= 20]\n",
    "\n",
    "squarify.plot(sizes=wc_top20['pct_total'], label=wc_top20['word'], alpha=.8 )\n",
    "plt.axis('off')\n",
    "plt.show()"
   ]
  },
  {
   "cell_type": "code",
   "execution_count": null,
   "metadata": {},
   "outputs": [],
   "source": [
    "nlp.Defaults.stop_words"
   ]
  },
  {
   "cell_type": "code",
   "execution_count": 264,
   "metadata": {},
   "outputs": [],
   "source": [
    "# Spacy's Default Stop Words plus custom\n",
    "STOP_WORDS = nlp.Defaults.stop_words.union([' ', '  ', '   ', '-', \"it's\", \"i'm\", \"i've\", \"coffee\", \"latte\", \"drink\", \"place\"])"
   ]
  },
  {
   "cell_type": "code",
   "execution_count": 265,
   "metadata": {},
   "outputs": [],
   "source": [
    "tokens = []\n",
    "\n",
    "for doc in tokenizer.pipe(shops['clean_full_review_text'], batch_size=500):\n",
    "    \n",
    "    doc_tokens = []\n",
    "    \n",
    "    for token in doc: \n",
    "        if token.text.lower() not in STOP_WORDS:\n",
    "            doc_tokens.append(token.text.lower())\n",
    "    tokens.append(doc_tokens)\n",
    "\n",
    "    \n",
    "shops['no_stopwords_tokens'] = tokens"
   ]
  },
  {
   "cell_type": "code",
   "execution_count": 266,
   "metadata": {},
   "outputs": [
    {
     "data": {
      "text/html": [
       "<div>\n",
       "<style scoped>\n",
       "    .dataframe tbody tr th:only-of-type {\n",
       "        vertical-align: middle;\n",
       "    }\n",
       "\n",
       "    .dataframe tbody tr th {\n",
       "        vertical-align: top;\n",
       "    }\n",
       "\n",
       "    .dataframe thead th {\n",
       "        text-align: right;\n",
       "    }\n",
       "</style>\n",
       "<table border=\"1\" class=\"dataframe\">\n",
       "  <thead>\n",
       "    <tr style=\"text-align: right;\">\n",
       "      <th></th>\n",
       "      <th>coffee_shop_name</th>\n",
       "      <th>full_review_text</th>\n",
       "      <th>star_rating</th>\n",
       "      <th>clean_full_review_text</th>\n",
       "      <th>clean_rating</th>\n",
       "      <th>tokens</th>\n",
       "      <th>no_stopwords_tokens</th>\n",
       "      <th>lemmas</th>\n",
       "    </tr>\n",
       "  </thead>\n",
       "  <tbody>\n",
       "    <tr>\n",
       "      <th>0</th>\n",
       "      <td>The Factory - Cafe With a Soul</td>\n",
       "      <td>11/25/2016 1 check-in Love love loved the atm...</td>\n",
       "      <td>5.0 star rating</td>\n",
       "      <td>check-in Love love loved the atmosphere! Ev...</td>\n",
       "      <td>5</td>\n",
       "      <td>[   , check-in, Love, love, loved, the, atmosp...</td>\n",
       "      <td>[check-in, love, love, loved, atmosphere!, cor...</td>\n",
       "      <td>[check, Love, love, love, atmosphere, corner, ...</td>\n",
       "    </tr>\n",
       "    <tr>\n",
       "      <th>1</th>\n",
       "      <td>The Factory - Cafe With a Soul</td>\n",
       "      <td>12/2/2016 Listed in Date Night: Austin, Ambia...</td>\n",
       "      <td>4.0 star rating</td>\n",
       "      <td>Listed in Date Night: Austin, Ambiance in Au...</td>\n",
       "      <td>4</td>\n",
       "      <td>[  , Listed, in, Date, Night:, Austin,, Ambian...</td>\n",
       "      <td>[listed, date, night:, austin,, ambiance, aust...</td>\n",
       "      <td>[list, Date, Night, Austin, Ambiance, Austin, ...</td>\n",
       "    </tr>\n",
       "    <tr>\n",
       "      <th>2</th>\n",
       "      <td>The Factory - Cafe With a Soul</td>\n",
       "      <td>11/30/2016 1 check-in Listed in Brunch Spots ...</td>\n",
       "      <td>4.0 star rating</td>\n",
       "      <td>check-in Listed in Brunch Spots I loved the...</td>\n",
       "      <td>4</td>\n",
       "      <td>[   , check-in, Listed, in, Brunch, Spots, I, ...</td>\n",
       "      <td>[check-in, listed, brunch, spots, loved, eclec...</td>\n",
       "      <td>[check, list, Brunch, Spots, love, eclectic, h...</td>\n",
       "    </tr>\n",
       "    <tr>\n",
       "      <th>3</th>\n",
       "      <td>The Factory - Cafe With a Soul</td>\n",
       "      <td>11/25/2016 Very cool decor! Good drinks Nice ...</td>\n",
       "      <td>2.0 star rating</td>\n",
       "      <td>Very cool decor! Good drinks Nice seating  H...</td>\n",
       "      <td>2</td>\n",
       "      <td>[  , Very, cool, decor!, Good, drinks, Nice, s...</td>\n",
       "      <td>[cool, decor!, good, drinks, nice, seating, ho...</td>\n",
       "      <td>[cool, decor, good, drink, nice, seating, over...</td>\n",
       "    </tr>\n",
       "    <tr>\n",
       "      <th>4</th>\n",
       "      <td>The Factory - Cafe With a Soul</td>\n",
       "      <td>12/3/2016 1 check-in They are located within ...</td>\n",
       "      <td>4.0 star rating</td>\n",
       "      <td>check-in They are located within the Northc...</td>\n",
       "      <td>4</td>\n",
       "      <td>[   , check-in, They, are, located, within, th...</td>\n",
       "      <td>[check-in, located, northcross, mall, shopping...</td>\n",
       "      <td>[check, locate, Northcross, mall, shopping, ce...</td>\n",
       "    </tr>\n",
       "  </tbody>\n",
       "</table>\n",
       "</div>"
      ],
      "text/plain": [
       "                  coffee_shop_name  \\\n",
       "0  The Factory - Cafe With a Soul    \n",
       "1  The Factory - Cafe With a Soul    \n",
       "2  The Factory - Cafe With a Soul    \n",
       "3  The Factory - Cafe With a Soul    \n",
       "4  The Factory - Cafe With a Soul    \n",
       "\n",
       "                                    full_review_text        star_rating  \\\n",
       "0   11/25/2016 1 check-in Love love loved the atm...   5.0 star rating    \n",
       "1   12/2/2016 Listed in Date Night: Austin, Ambia...   4.0 star rating    \n",
       "2   11/30/2016 1 check-in Listed in Brunch Spots ...   4.0 star rating    \n",
       "3   11/25/2016 Very cool decor! Good drinks Nice ...   2.0 star rating    \n",
       "4   12/3/2016 1 check-in They are located within ...   4.0 star rating    \n",
       "\n",
       "                              clean_full_review_text  clean_rating  \\\n",
       "0     check-in Love love loved the atmosphere! Ev...             5   \n",
       "1    Listed in Date Night: Austin, Ambiance in Au...             4   \n",
       "2     check-in Listed in Brunch Spots I loved the...             4   \n",
       "3    Very cool decor! Good drinks Nice seating  H...             2   \n",
       "4     check-in They are located within the Northc...             4   \n",
       "\n",
       "                                              tokens  \\\n",
       "0  [   , check-in, Love, love, loved, the, atmosp...   \n",
       "1  [  , Listed, in, Date, Night:, Austin,, Ambian...   \n",
       "2  [   , check-in, Listed, in, Brunch, Spots, I, ...   \n",
       "3  [  , Very, cool, decor!, Good, drinks, Nice, s...   \n",
       "4  [   , check-in, They, are, located, within, th...   \n",
       "\n",
       "                                 no_stopwords_tokens  \\\n",
       "0  [check-in, love, love, loved, atmosphere!, cor...   \n",
       "1  [listed, date, night:, austin,, ambiance, aust...   \n",
       "2  [check-in, listed, brunch, spots, loved, eclec...   \n",
       "3  [cool, decor!, good, drinks, nice, seating, ho...   \n",
       "4  [check-in, located, northcross, mall, shopping...   \n",
       "\n",
       "                                              lemmas  \n",
       "0  [check, Love, love, love, atmosphere, corner, ...  \n",
       "1  [list, Date, Night, Austin, Ambiance, Austin, ...  \n",
       "2  [check, list, Brunch, Spots, love, eclectic, h...  \n",
       "3  [cool, decor, good, drink, nice, seating, over...  \n",
       "4  [check, locate, Northcross, mall, shopping, ce...  "
      ]
     },
     "execution_count": 266,
     "metadata": {},
     "output_type": "execute_result"
    }
   ],
   "source": [
    "shops.head()"
   ]
  },
  {
   "cell_type": "code",
   "execution_count": 267,
   "metadata": {},
   "outputs": [
    {
     "data": {
      "text/plain": [
       "0    [check-in, love, love, loved, atmosphere!, cor...\n",
       "1    [listed, date, night:, austin,, ambiance, aust...\n",
       "2    [check-in, listed, brunch, spots, loved, eclec...\n",
       "3    [cool, decor!, good, drinks, nice, seating, ho...\n",
       "4    [check-in, located, northcross, mall, shopping...\n",
       "Name: no_stopwords_tokens, dtype: object"
      ]
     },
     "execution_count": 267,
     "metadata": {},
     "output_type": "execute_result"
    }
   ],
   "source": [
    "shops['no_stopwords_tokens'].head()"
   ]
  },
  {
   "cell_type": "code",
   "execution_count": 268,
   "metadata": {},
   "outputs": [
    {
     "data": {
      "text/plain": [
       "106       great\n",
       "163        like\n",
       "187        good\n",
       "30     check-in\n",
       "20         love\n",
       "775      little\n",
       "304       don't\n",
       "161        nice\n",
       "462        food\n",
       "607        time\n",
       "Name: word, dtype: object"
      ]
     },
     "execution_count": 268,
     "metadata": {},
     "output_type": "execute_result"
    }
   ],
   "source": [
    "word_count = count(shops['no_stopwords_tokens'])\n",
    "word_count['word'].head(10)"
   ]
  },
  {
   "cell_type": "code",
   "execution_count": 269,
   "metadata": {},
   "outputs": [
    {
     "data": {
      "text/html": [
       "<div>\n",
       "<style scoped>\n",
       "    .dataframe tbody tr th:only-of-type {\n",
       "        vertical-align: middle;\n",
       "    }\n",
       "\n",
       "    .dataframe tbody tr th {\n",
       "        vertical-align: top;\n",
       "    }\n",
       "\n",
       "    .dataframe thead th {\n",
       "        text-align: right;\n",
       "    }\n",
       "</style>\n",
       "<table border=\"1\" class=\"dataframe\">\n",
       "  <thead>\n",
       "    <tr style=\"text-align: right;\">\n",
       "      <th></th>\n",
       "      <th>word</th>\n",
       "      <th>appears_in</th>\n",
       "      <th>count</th>\n",
       "      <th>rank</th>\n",
       "      <th>pct_total</th>\n",
       "      <th>cul_pct_total</th>\n",
       "      <th>appears_in_pct</th>\n",
       "    </tr>\n",
       "  </thead>\n",
       "  <tbody>\n",
       "    <tr>\n",
       "      <th>106</th>\n",
       "      <td>great</td>\n",
       "      <td>2438</td>\n",
       "      <td>3250</td>\n",
       "      <td>1.0</td>\n",
       "      <td>0.008868</td>\n",
       "      <td>0.008868</td>\n",
       "      <td>0.320116</td>\n",
       "    </tr>\n",
       "    <tr>\n",
       "      <th>163</th>\n",
       "      <td>like</td>\n",
       "      <td>2034</td>\n",
       "      <td>2902</td>\n",
       "      <td>2.0</td>\n",
       "      <td>0.007918</td>\n",
       "      <td>0.016786</td>\n",
       "      <td>0.267069</td>\n",
       "    </tr>\n",
       "    <tr>\n",
       "      <th>187</th>\n",
       "      <td>good</td>\n",
       "      <td>2084</td>\n",
       "      <td>2779</td>\n",
       "      <td>3.0</td>\n",
       "      <td>0.007583</td>\n",
       "      <td>0.024369</td>\n",
       "      <td>0.273634</td>\n",
       "    </tr>\n",
       "    <tr>\n",
       "      <th>30</th>\n",
       "      <td>check-in</td>\n",
       "      <td>1957</td>\n",
       "      <td>1961</td>\n",
       "      <td>4.0</td>\n",
       "      <td>0.005351</td>\n",
       "      <td>0.029720</td>\n",
       "      <td>0.256959</td>\n",
       "    </tr>\n",
       "    <tr>\n",
       "      <th>20</th>\n",
       "      <td>love</td>\n",
       "      <td>1434</td>\n",
       "      <td>1806</td>\n",
       "      <td>5.0</td>\n",
       "      <td>0.004928</td>\n",
       "      <td>0.034648</td>\n",
       "      <td>0.188288</td>\n",
       "    </tr>\n",
       "    <tr>\n",
       "      <th>775</th>\n",
       "      <td>little</td>\n",
       "      <td>1230</td>\n",
       "      <td>1479</td>\n",
       "      <td>6.0</td>\n",
       "      <td>0.004036</td>\n",
       "      <td>0.038684</td>\n",
       "      <td>0.161502</td>\n",
       "    </tr>\n",
       "    <tr>\n",
       "      <th>304</th>\n",
       "      <td>don't</td>\n",
       "      <td>1133</td>\n",
       "      <td>1395</td>\n",
       "      <td>7.0</td>\n",
       "      <td>0.003806</td>\n",
       "      <td>0.042490</td>\n",
       "      <td>0.148766</td>\n",
       "    </tr>\n",
       "    <tr>\n",
       "      <th>161</th>\n",
       "      <td>nice</td>\n",
       "      <td>1188</td>\n",
       "      <td>1368</td>\n",
       "      <td>8.0</td>\n",
       "      <td>0.003733</td>\n",
       "      <td>0.046223</td>\n",
       "      <td>0.155987</td>\n",
       "    </tr>\n",
       "    <tr>\n",
       "      <th>462</th>\n",
       "      <td>food</td>\n",
       "      <td>1096</td>\n",
       "      <td>1367</td>\n",
       "      <td>9.0</td>\n",
       "      <td>0.003730</td>\n",
       "      <td>0.049953</td>\n",
       "      <td>0.143908</td>\n",
       "    </tr>\n",
       "    <tr>\n",
       "      <th>607</th>\n",
       "      <td>time</td>\n",
       "      <td>1099</td>\n",
       "      <td>1345</td>\n",
       "      <td>10.0</td>\n",
       "      <td>0.003670</td>\n",
       "      <td>0.053623</td>\n",
       "      <td>0.144301</td>\n",
       "    </tr>\n",
       "  </tbody>\n",
       "</table>\n",
       "</div>"
      ],
      "text/plain": [
       "         word  appears_in  count  rank  pct_total  cul_pct_total  \\\n",
       "106     great        2438   3250   1.0   0.008868       0.008868   \n",
       "163      like        2034   2902   2.0   0.007918       0.016786   \n",
       "187      good        2084   2779   3.0   0.007583       0.024369   \n",
       "30   check-in        1957   1961   4.0   0.005351       0.029720   \n",
       "20       love        1434   1806   5.0   0.004928       0.034648   \n",
       "775    little        1230   1479   6.0   0.004036       0.038684   \n",
       "304     don't        1133   1395   7.0   0.003806       0.042490   \n",
       "161      nice        1188   1368   8.0   0.003733       0.046223   \n",
       "462      food        1096   1367   9.0   0.003730       0.049953   \n",
       "607      time        1099   1345  10.0   0.003670       0.053623   \n",
       "\n",
       "     appears_in_pct  \n",
       "106        0.320116  \n",
       "163        0.267069  \n",
       "187        0.273634  \n",
       "30         0.256959  \n",
       "20         0.188288  \n",
       "775        0.161502  \n",
       "304        0.148766  \n",
       "161        0.155987  \n",
       "462        0.143908  \n",
       "607        0.144301  "
      ]
     },
     "execution_count": 269,
     "metadata": {},
     "output_type": "execute_result"
    }
   ],
   "source": [
    "word_count.head(10)"
   ]
  },
  {
   "cell_type": "code",
   "execution_count": 270,
   "metadata": {},
   "outputs": [
    {
     "data": {
      "image/png": "[encoded data removed]",
      "text/plain": [
       "<Figure size 432x288 with 1 Axes>"
      ]
     },
     "metadata": {
      "needs_background": "light"
     },
     "output_type": "display_data"
    }
   ],
   "source": [
    "word_count_top20 = word_count[word_count['rank'] <= 20]\n",
    "\n",
    "squarify.plot(sizes=word_count_top20['pct_total'], label=word_count_top20['word'], alpha=.8 )\n",
    "plt.axis('off')\n",
    "plt.show()"
   ]
  },
  {
   "cell_type": "code",
   "execution_count": 271,
   "metadata": {},
   "outputs": [
    {
     "data": {
      "text/html": [
       "<div>\n",
       "<style scoped>\n",
       "    .dataframe tbody tr th:only-of-type {\n",
       "        vertical-align: middle;\n",
       "    }\n",
       "\n",
       "    .dataframe tbody tr th {\n",
       "        vertical-align: top;\n",
       "    }\n",
       "\n",
       "    .dataframe thead th {\n",
       "        text-align: right;\n",
       "    }\n",
       "</style>\n",
       "<table border=\"1\" class=\"dataframe\">\n",
       "  <thead>\n",
       "    <tr style=\"text-align: right;\">\n",
       "      <th></th>\n",
       "      <th>word</th>\n",
       "      <th>appears_in</th>\n",
       "      <th>count</th>\n",
       "      <th>rank</th>\n",
       "      <th>pct_total</th>\n",
       "      <th>cul_pct_total</th>\n",
       "      <th>appears_in_pct</th>\n",
       "    </tr>\n",
       "  </thead>\n",
       "  <tbody>\n",
       "    <tr>\n",
       "      <th>37707</th>\n",
       "      <td>monsieur,</td>\n",
       "      <td>1</td>\n",
       "      <td>1</td>\n",
       "      <td>37711.0</td>\n",
       "      <td>0.000003</td>\n",
       "      <td>0.999948</td>\n",
       "      <td>0.000131</td>\n",
       "    </tr>\n",
       "    <tr>\n",
       "      <th>37710</th>\n",
       "      <td>delicious...and</td>\n",
       "      <td>1</td>\n",
       "      <td>1</td>\n",
       "      <td>37712.0</td>\n",
       "      <td>0.000003</td>\n",
       "      <td>0.999951</td>\n",
       "      <td>0.000131</td>\n",
       "    </tr>\n",
       "    <tr>\n",
       "      <th>37716</th>\n",
       "      <td>(turkey,</td>\n",
       "      <td>1</td>\n",
       "      <td>1</td>\n",
       "      <td>37713.0</td>\n",
       "      <td>0.000003</td>\n",
       "      <td>0.999954</td>\n",
       "      <td>0.000131</td>\n",
       "    </tr>\n",
       "    <tr>\n",
       "      <th>37712</th>\n",
       "      <td>romaine</td>\n",
       "      <td>1</td>\n",
       "      <td>1</td>\n",
       "      <td>37714.0</td>\n",
       "      <td>0.000003</td>\n",
       "      <td>0.999956</td>\n",
       "      <td>0.000131</td>\n",
       "    </tr>\n",
       "    <tr>\n",
       "      <th>37714</th>\n",
       "      <td>rib,</td>\n",
       "      <td>1</td>\n",
       "      <td>1</td>\n",
       "      <td>37715.0</td>\n",
       "      <td>0.000003</td>\n",
       "      <td>0.999959</td>\n",
       "      <td>0.000131</td>\n",
       "    </tr>\n",
       "    <tr>\n",
       "      <th>37715</th>\n",
       "      <td>predictably,</td>\n",
       "      <td>1</td>\n",
       "      <td>1</td>\n",
       "      <td>37716.0</td>\n",
       "      <td>0.000003</td>\n",
       "      <td>0.999962</td>\n",
       "      <td>0.000131</td>\n",
       "    </tr>\n",
       "    <tr>\n",
       "      <th>37711</th>\n",
       "      <td>blts</td>\n",
       "      <td>1</td>\n",
       "      <td>1</td>\n",
       "      <td>37717.0</td>\n",
       "      <td>0.000003</td>\n",
       "      <td>0.999965</td>\n",
       "      <td>0.000131</td>\n",
       "    </tr>\n",
       "    <tr>\n",
       "      <th>37713</th>\n",
       "      <td>turkey)</td>\n",
       "      <td>1</td>\n",
       "      <td>1</td>\n",
       "      <td>37718.0</td>\n",
       "      <td>0.000003</td>\n",
       "      <td>0.999967</td>\n",
       "      <td>0.000131</td>\n",
       "    </tr>\n",
       "    <tr>\n",
       "      <th>37717</th>\n",
       "      <td>(pork)</td>\n",
       "      <td>1</td>\n",
       "      <td>1</td>\n",
       "      <td>37719.0</td>\n",
       "      <td>0.000003</td>\n",
       "      <td>0.999970</td>\n",
       "      <td>0.000131</td>\n",
       "    </tr>\n",
       "    <tr>\n",
       "      <th>37719</th>\n",
       "      <td>roomier</td>\n",
       "      <td>1</td>\n",
       "      <td>1</td>\n",
       "      <td>37720.0</td>\n",
       "      <td>0.000003</td>\n",
       "      <td>0.999973</td>\n",
       "      <td>0.000131</td>\n",
       "    </tr>\n",
       "    <tr>\n",
       "      <th>37720</th>\n",
       "      <td>pine</td>\n",
       "      <td>1</td>\n",
       "      <td>1</td>\n",
       "      <td>37721.0</td>\n",
       "      <td>0.000003</td>\n",
       "      <td>0.999975</td>\n",
       "      <td>0.000131</td>\n",
       "    </tr>\n",
       "    <tr>\n",
       "      <th>37718</th>\n",
       "      <td>windowed</td>\n",
       "      <td>1</td>\n",
       "      <td>1</td>\n",
       "      <td>37722.0</td>\n",
       "      <td>0.000003</td>\n",
       "      <td>0.999978</td>\n",
       "      <td>0.000131</td>\n",
       "    </tr>\n",
       "    <tr>\n",
       "      <th>37722</th>\n",
       "      <td>irregular.</td>\n",
       "      <td>1</td>\n",
       "      <td>1</td>\n",
       "      <td>37723.0</td>\n",
       "      <td>0.000003</td>\n",
       "      <td>0.999981</td>\n",
       "      <td>0.000131</td>\n",
       "    </tr>\n",
       "    <tr>\n",
       "      <th>37721</th>\n",
       "      <td>responsive.</td>\n",
       "      <td>1</td>\n",
       "      <td>1</td>\n",
       "      <td>37724.0</td>\n",
       "      <td>0.000003</td>\n",
       "      <td>0.999984</td>\n",
       "      <td>0.000131</td>\n",
       "    </tr>\n",
       "    <tr>\n",
       "      <th>37723</th>\n",
       "      <td>cheddar,</td>\n",
       "      <td>1</td>\n",
       "      <td>1</td>\n",
       "      <td>37725.0</td>\n",
       "      <td>0.000003</td>\n",
       "      <td>0.999986</td>\n",
       "      <td>0.000131</td>\n",
       "    </tr>\n",
       "    <tr>\n",
       "      <th>37724</th>\n",
       "      <td>actuality.</td>\n",
       "      <td>1</td>\n",
       "      <td>1</td>\n",
       "      <td>37726.0</td>\n",
       "      <td>0.000003</td>\n",
       "      <td>0.999989</td>\n",
       "      <td>0.000131</td>\n",
       "    </tr>\n",
       "    <tr>\n",
       "      <th>37725</th>\n",
       "      <td>crass.</td>\n",
       "      <td>1</td>\n",
       "      <td>1</td>\n",
       "      <td>37727.0</td>\n",
       "      <td>0.000003</td>\n",
       "      <td>0.999992</td>\n",
       "      <td>0.000131</td>\n",
       "    </tr>\n",
       "    <tr>\n",
       "      <th>37726</th>\n",
       "      <td>restrictions.</td>\n",
       "      <td>1</td>\n",
       "      <td>1</td>\n",
       "      <td>37728.0</td>\n",
       "      <td>0.000003</td>\n",
       "      <td>0.999995</td>\n",
       "      <td>0.000131</td>\n",
       "    </tr>\n",
       "    <tr>\n",
       "      <th>37728</th>\n",
       "      <td>specially,</td>\n",
       "      <td>1</td>\n",
       "      <td>1</td>\n",
       "      <td>37729.0</td>\n",
       "      <td>0.000003</td>\n",
       "      <td>0.999997</td>\n",
       "      <td>0.000131</td>\n",
       "    </tr>\n",
       "    <tr>\n",
       "      <th>37727</th>\n",
       "      <td>digestion,</td>\n",
       "      <td>1</td>\n",
       "      <td>1</td>\n",
       "      <td>37730.0</td>\n",
       "      <td>0.000003</td>\n",
       "      <td>1.000000</td>\n",
       "      <td>0.000131</td>\n",
       "    </tr>\n",
       "  </tbody>\n",
       "</table>\n",
       "</div>"
      ],
      "text/plain": [
       "                  word  appears_in  count     rank  pct_total  cul_pct_total  \\\n",
       "37707        monsieur,           1      1  37711.0   0.000003       0.999948   \n",
       "37710  delicious...and           1      1  37712.0   0.000003       0.999951   \n",
       "37716         (turkey,           1      1  37713.0   0.000003       0.999954   \n",
       "37712          romaine           1      1  37714.0   0.000003       0.999956   \n",
       "37714             rib,           1      1  37715.0   0.000003       0.999959   \n",
       "37715     predictably,           1      1  37716.0   0.000003       0.999962   \n",
       "37711             blts           1      1  37717.0   0.000003       0.999965   \n",
       "37713          turkey)           1      1  37718.0   0.000003       0.999967   \n",
       "37717           (pork)           1      1  37719.0   0.000003       0.999970   \n",
       "37719          roomier           1      1  37720.0   0.000003       0.999973   \n",
       "37720             pine           1      1  37721.0   0.000003       0.999975   \n",
       "37718         windowed           1      1  37722.0   0.000003       0.999978   \n",
       "37722       irregular.           1      1  37723.0   0.000003       0.999981   \n",
       "37721      responsive.           1      1  37724.0   0.000003       0.999984   \n",
       "37723         cheddar,           1      1  37725.0   0.000003       0.999986   \n",
       "37724       actuality.           1      1  37726.0   0.000003       0.999989   \n",
       "37725           crass.           1      1  37727.0   0.000003       0.999992   \n",
       "37726    restrictions.           1      1  37728.0   0.000003       0.999995   \n",
       "37728       specially,           1      1  37729.0   0.000003       0.999997   \n",
       "37727       digestion,           1      1  37730.0   0.000003       1.000000   \n",
       "\n",
       "       appears_in_pct  \n",
       "37707        0.000131  \n",
       "37710        0.000131  \n",
       "37716        0.000131  \n",
       "37712        0.000131  \n",
       "37714        0.000131  \n",
       "37715        0.000131  \n",
       "37711        0.000131  \n",
       "37713        0.000131  \n",
       "37717        0.000131  \n",
       "37719        0.000131  \n",
       "37720        0.000131  \n",
       "37718        0.000131  \n",
       "37722        0.000131  \n",
       "37721        0.000131  \n",
       "37723        0.000131  \n",
       "37724        0.000131  \n",
       "37725        0.000131  \n",
       "37726        0.000131  \n",
       "37728        0.000131  \n",
       "37727        0.000131  "
      ]
     },
     "execution_count": 271,
     "metadata": {},
     "output_type": "execute_result"
    }
   ],
   "source": [
    "word_count.tail(20)"
   ]
  },
  {
   "cell_type": "code",
   "execution_count": 272,
   "metadata": {},
   "outputs": [
    {
     "data": {
      "text/plain": [
       "count    37730.000000\n",
       "mean         0.001168\n",
       "std          0.006254\n",
       "min          0.000131\n",
       "25%          0.000131\n",
       "50%          0.000131\n",
       "75%          0.000394\n",
       "max          0.320116\n",
       "Name: appears_in_pct, dtype: float64"
      ]
     },
     "execution_count": 272,
     "metadata": {},
     "output_type": "execute_result"
    }
   ],
   "source": [
    "word_count['appears_in_pct'].describe()"
   ]
  },
  {
   "cell_type": "code",
   "execution_count": 273,
   "metadata": {},
   "outputs": [
    {
     "data": {
      "image/png": "[encoded data removed]",
      "text/plain": [
       "<Figure size 432x288 with 1 Axes>"
      ]
     },
     "metadata": {
      "needs_background": "light"
     },
     "output_type": "display_data"
    }
   ],
   "source": [
    "# Frequency of appears in documents\n",
    "sns.distplot(word_count['appears_in_pct']);"
   ]
  },
  {
   "cell_type": "code",
   "execution_count": 274,
   "metadata": {},
   "outputs": [
    {
     "data": {
      "image/png": "[encoded data removed]",
      "text/plain": [
       "<Figure size 432x288 with 1 Axes>"
      ]
     },
     "metadata": {
      "needs_background": "light"
     },
     "output_type": "display_data"
    }
   ],
   "source": [
    "# Tree-Map w/ Words that appear in a least 5% of documents. \n",
    "\n",
    "wc = word_count[word_count['appears_in_pct'] >= 0.05]\n",
    "\n",
    "sns.distplot(wc['appears_in_pct']);"
   ]
  },
  {
   "cell_type": "code",
   "execution_count": 275,
   "metadata": {},
   "outputs": [
    {
     "data": {
      "text/plain": [
       "(112, 7)"
      ]
     },
     "execution_count": 275,
     "metadata": {},
     "output_type": "execute_result"
    }
   ],
   "source": [
    "wc.shape"
   ]
  },
  {
   "cell_type": "code",
   "execution_count": 276,
   "metadata": {},
   "outputs": [],
   "source": [
    "#lemmatization\n",
    "def get_lemmas(text):\n",
    "\n",
    "    lemmas = []\n",
    "    \n",
    "    doc = nlp(text)\n",
    "    \n",
    "    # Something goes here :P\n",
    "    for token in doc: \n",
    "        if ((token.text.lower() not in STOP_WORDS) and (token.is_punct == False)) and (token.pos_ != 'PRON'):\n",
    "            lemmas.append(token.lemma_)\n",
    "    \n",
    "    return lemmas"
   ]
  },
  {
   "cell_type": "code",
   "execution_count": 277,
   "metadata": {},
   "outputs": [
    {
     "name": "stderr",
     "output_type": "stream",
     "text": [
      "/home/tigju/miniconda3/envs/unit4-machine-learning/lib/python3.8/site-packages/tqdm/std.py:668: FutureWarning: The Panel class is removed from pandas. Accessing it from the top-level namespace will also be removed in the next version\n",
      "  from pandas import Panel\n"
     ]
    }
   ],
   "source": [
    "from tqdm import tqdm \n",
    "tqdm.pandas()"
   ]
  },
  {
   "cell_type": "code",
   "execution_count": 278,
   "metadata": {},
   "outputs": [
    {
     "name": "stderr",
     "output_type": "stream",
     "text": [
      "100%|██████████| 7616/7616 [04:55<00:00, 25.80it/s]\n"
     ]
    }
   ],
   "source": [
    "shops['lemmas'] = shops['clean_full_review_text'].progress_apply(get_lemmas)"
   ]
  },
  {
   "cell_type": "code",
   "execution_count": 279,
   "metadata": {},
   "outputs": [
    {
     "data": {
      "text/plain": [
       "0    [check, Love, love, love, atmosphere, corner, ...\n",
       "1    [list, Date, Night, Austin, Ambiance, Austin, ...\n",
       "2    [check, list, Brunch, Spots, love, eclectic, h...\n",
       "3    [cool, decor, good, drink, nice, seating, over...\n",
       "4    [check, locate, Northcross, mall, shopping, ce...\n",
       "Name: lemmas, dtype: object"
      ]
     },
     "execution_count": 279,
     "metadata": {},
     "output_type": "execute_result"
    }
   ],
   "source": [
    "shops['lemmas'].head()"
   ]
  },
  {
   "cell_type": "code",
   "execution_count": 280,
   "metadata": {},
   "outputs": [
    {
     "data": {
      "image/png": "[encoded data removed]",
      "text/plain": [
       "<Figure size 432x288 with 1 Axes>"
      ]
     },
     "metadata": {
      "needs_background": "light"
     },
     "output_type": "display_data"
    }
   ],
   "source": [
    "wc_lemmas = count(shops['lemmas'])\n",
    "wc_lemmas_top20 = wc_lemmas[wc_lemmas['rank'] <= 20]\n",
    "\n",
    "squarify.plot(sizes=wc_lemmas_top20['pct_total'], label=wc_lemmas_top20['word'], alpha=.8 )\n",
    "plt.axis('off')\n",
    "plt.show()"
   ]
  },
  {
   "cell_type": "markdown",
   "metadata": {},
   "source": [
    "## Can visualize the words with the greatest difference in counts between 'good' & 'bad'?\n",
    "\n",
    "Couple Notes: \n",
    "- Rel. freq. instead of absolute counts b/c of different numbers of reviews\n",
    "- Only look at the top 5-10 words with the greatest differences\n"
   ]
  },
  {
   "cell_type": "code",
   "execution_count": 282,
   "metadata": {},
   "outputs": [],
   "source": [
    "bad_reviews = shops[shops['clean_rating'] <= 3]\n",
    "good_reviews = shops[shops['clean_rating'] >= 4]"
   ]
  },
  {
   "cell_type": "code",
   "execution_count": 283,
   "metadata": {},
   "outputs": [
    {
     "data": {
      "text/plain": [
       "3    738\n",
       "2    460\n",
       "1    278\n",
       "Name: clean_rating, dtype: int64"
      ]
     },
     "execution_count": 283,
     "metadata": {},
     "output_type": "execute_result"
    }
   ],
   "source": [
    "bad_reviews['clean_rating'].value_counts()"
   ]
  },
  {
   "cell_type": "code",
   "execution_count": 284,
   "metadata": {},
   "outputs": [
    {
     "data": {
      "text/plain": [
       "5    3780\n",
       "4    2360\n",
       "Name: clean_rating, dtype: int64"
      ]
     },
     "execution_count": 284,
     "metadata": {},
     "output_type": "execute_result"
    }
   ],
   "source": [
    "good_reviews['clean_rating'].value_counts()"
   ]
  },
  {
   "cell_type": "code",
   "execution_count": 285,
   "metadata": {},
   "outputs": [
    {
     "data": {
      "image/png": "[encoded data removed]",
      "text/plain": [
       "<Figure size 1080x432 with 2 Axes>"
      ]
     },
     "metadata": {
      "needs_background": "light"
     },
     "output_type": "display_data"
    }
   ],
   "source": [
    "wc_bad_lemmas = count(bad_reviews['lemmas'])\n",
    "wc_good_lemmas = count(good_reviews['lemmas'])\n",
    "\n",
    "wc_bad_lemmas_top10 = wc_bad_lemmas[wc_bad_lemmas['rank'] <= 10]\n",
    "wc_good_lemmas_top10 = wc_good_lemmas[wc_good_lemmas['rank'] <= 10]\n",
    "\n",
    "fig, axes = plt.subplots(1, 2, figsize=(15, 6))\n",
    "\n",
    "axes[0].set_title(\"Words used in bad reviews\")\n",
    "squarify.plot(sizes=wc_bad_lemmas_top10['pct_total'], label=wc_bad_lemmas_top10['word'], alpha=.8, ax=axes[0])\n",
    "plt.axis('off')\n",
    "\n",
    "axes[1].set_title(\"Words used in good reviews\")\n",
    "squarify.plot(sizes=wc_good_lemmas_top10['pct_total'], label=wc_good_lemmas_top10['word'], alpha=.8, ax=axes[1])\n",
    "plt.axis('off')\n",
    "\n",
    "plt.show()"
   ]
  },
  {
   "cell_type": "code",
   "execution_count": 286,
   "metadata": {},
   "outputs": [
    {
     "data": {
      "image/png": "[encoded data removed]",
      "text/plain": [
       "<Figure size 432x288 with 1 Axes>"
      ]
     },
     "metadata": {
      "needs_background": "light"
     },
     "output_type": "display_data"
    }
   ],
   "source": [
    "# Frequency of appears in documents\n",
    "sns.distplot(wc_bad_lemmas['appears_in_pct']);"
   ]
  },
  {
   "cell_type": "code",
   "execution_count": 287,
   "metadata": {},
   "outputs": [
    {
     "data": {
      "image/png": "[encoded data removed]",
      "text/plain": [
       "<Figure size 432x288 with 1 Axes>"
      ]
     },
     "metadata": {
      "needs_background": "light"
     },
     "output_type": "display_data"
    }
   ],
   "source": [
    "# Tree-Map w/ Words that appear in a least 5% of documents. \n",
    "\n",
    "wc_bad = wc_bad_lemmas[wc_bad_lemmas['appears_in_pct'] >= 0.05]\n",
    "\n",
    "sns.distplot(wc_bad['appears_in_pct']);"
   ]
  },
  {
   "cell_type": "code",
   "execution_count": 288,
   "metadata": {},
   "outputs": [
    {
     "data": {
      "image/png": "[encoded data removed]",
      "text/plain": [
       "<Figure size 432x288 with 1 Axes>"
      ]
     },
     "metadata": {
      "needs_background": "light"
     },
     "output_type": "display_data"
    }
   ],
   "source": [
    "# Frequency of appears in documents\n",
    "sns.distplot(wc_good_lemmas['appears_in_pct']);"
   ]
  },
  {
   "cell_type": "code",
   "execution_count": 289,
   "metadata": {},
   "outputs": [
    {
     "data": {
      "image/png": "[encoded data removed]",
      "text/plain": [
       "<Figure size 432x288 with 1 Axes>"
      ]
     },
     "metadata": {
      "needs_background": "light"
     },
     "output_type": "display_data"
    }
   ],
   "source": [
    "# Tree-Map w/ Words that appear in a least 5% of documents. \n",
    "\n",
    "wc_good = wc_good_lemmas[wc_good_lemmas['appears_in_pct'] >= 0.05]\n",
    "\n",
    "sns.distplot(wc_good['appears_in_pct']);"
   ]
  },
  {
   "cell_type": "code",
   "execution_count": 310,
   "metadata": {},
   "outputs": [],
   "source": [
    "sns.set(rc={'figure.figsize': (30,1)})\n",
    "def visualize_sentiments(data):\n",
    "    sns.heatmap(pd.DataFrame(data).set_index(\"Sentence\").T, center=0, annot=True, cmap=\"PiYG\")"
   ]
  },
  {
   "cell_type": "code",
   "execution_count": 312,
   "metadata": {},
   "outputs": [
    {
     "name": "stdout",
     "output_type": "stream",
     "text": [
      "  Very cool decor! Good drinks Nice seating  However...  Just about everything is overpriced. $. extra for  ounces of Almond Milk in a cortado. No WiFi Music is a bit loud and the mix is odd.  Pleasant French oldies followed by loud techno. Several tables were dirty when we got there. Service is average.  It feels like a Los Angeles coffee shot that is out of place. \n"
     ]
    },
    {
     "data": {
      "text/plain": [
       "Sentiment(polarity=0.15711805555555555, subjectivity=0.5468055555555557)"
      ]
     },
     "execution_count": 312,
     "metadata": {},
     "output_type": "execute_result"
    }
   ],
   "source": [
    "from textblob import TextBlob\n",
    "sentence1 = bad_reviews['clean_full_review_text'].iloc[0]\n",
    "print(sentence1)\n",
    "TextBlob(sentence1).sentiment"
   ]
  },
  {
   "cell_type": "code",
   "execution_count": 313,
   "metadata": {},
   "outputs": [
    {
     "data": {
      "image/png": "[encoded data removed]",
      "text/plain": [
       "<Figure size 2160x72 with 2 Axes>"
      ]
     },
     "metadata": {},
     "output_type": "display_data"
    }
   ],
   "source": [
    "visualize_sentiments({\"Sentence\": [\"SENTENCE\"] + sentence1.split(),\n",
    "    \"Sentiment\": [TextBlob(sentence1).polarity] + [TextBlob(word).polarity for word in sentence1.split()]\n",
    "})"
   ]
  },
  {
   "cell_type": "code",
   "execution_count": 315,
   "metadata": {},
   "outputs": [
    {
     "name": "stdout",
     "output_type": "stream",
     "text": [
      "  Listed in Date Night: Austin, Ambiance in Austin BEAUTIFUL!!!! Love the ambiance! Instagram-worthy!!!  Definitely $$$, so be prepared. This is gonna cost you a pretty penny :) Waffle dessert was just decent...nothing to rave about.  But, will probably be back just to be somewhere unique and nice. \n"
     ]
    },
    {
     "data": {
      "text/plain": [
       "Sentiment(polarity=0.465625, subjectivity=0.7625)"
      ]
     },
     "execution_count": 315,
     "metadata": {},
     "output_type": "execute_result"
    }
   ],
   "source": [
    "sentence2 = good_reviews['clean_full_review_text'].iloc[1]\n",
    "print(sentence2)\n",
    "TextBlob(sentence2).sentiment"
   ]
  },
  {
   "cell_type": "code",
   "execution_count": 316,
   "metadata": {},
   "outputs": [
    {
     "data": {
      "image/png": "[encoded data removed]",
      "text/plain": [
       "<Figure size 2160x72 with 2 Axes>"
      ]
     },
     "metadata": {},
     "output_type": "display_data"
    }
   ],
   "source": [
    "visualize_sentiments({\"Sentence\": [\"SENTENCE\"] + sentence2.split(),\n",
    "    \"Sentiment\": [TextBlob(sentence2).polarity] + [TextBlob(word).polarity for word in sentence2.split()]\n",
    "})"
   ]
  },
  {
   "cell_type": "markdown",
   "metadata": {
    "colab_type": "text",
    "id": "1dCb1q8XphcP",
    "toc-hr-collapsed": true
   },
   "source": [
    "## Stretch Goals\n",
    "\n",
    "* Analyze another corpus of documents - such as Indeed.com job listings ;).\n",
    "* Play with the Spacy API to\n",
    " - Extract Named Entities\n",
    " - Extracting 'noun chunks'\n",
    " - Attempt Document Classification with just Spacy\n",
    " - *Note:* This [course](https://course.spacy.io/) will be of interesting in helping you with these stretch goals. \n",
    "* Try to build a plotly dash app with your text data \n",
    "\n"
   ]
  }
 ],
 "metadata": {
  "colab": {
   "collapsed_sections": [],
   "name": "LS_DS_421_Text_Data_Assignment.ipynb",
   "provenance": [],
   "version": "0.3.2"
  },
  "kernelspec": {
   "display_name": "Python 3",
   "language": "python",
   "name": "python3"
  },
  "language_info": {
   "codemirror_mode": {
    "name": "ipython",
    "version": 3
   },
   "file_extension": ".py",
   "mimetype": "text/x-python",
   "name": "python",
   "nbconvert_exporter": "python",
   "pygments_lexer": "ipython3",
   "version": "3.8.3"
  },
  "toc-autonumbering": false
 },
 "nbformat": 4,
 "nbformat_minor": 4
}
